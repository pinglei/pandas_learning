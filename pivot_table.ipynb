{
 "cells": [
  {
   "cell_type": "code",
   "execution_count": 38,
   "metadata": {
    "collapsed": false,
    "scrolled": true
   },
   "outputs": [
    {
     "name": "stdout",
     "output_type": "stream",
     "text": [
      "   type1  type2  trans\n",
      "0      1      2      0\n",
      "1      1      3      0\n",
      "2      2      3      0\n",
      "3      2      2      0\n",
      "4      1      3      0\n",
      "5      1      1      0\n",
      "type2  1  2  3\n",
      "type1         \n",
      "1      1  1  2\n",
      "2      0  1  1\n"
     ]
    }
   ],
   "source": [
    "import pandas as pd\n",
    "import numpy as np\n",
    "df = pd.DataFrame([[1,2,0],[1,3,0],[2,3,0],[2,2,0],[1,3,0],[1,1,0]],columns=['type1','type2','trans'])\n",
    "print df\n",
    "pivot = df.pivot_table(index='type1',columns='type2',values='trans', aggfunc=len, fill_value=0)\n",
    "print pivot\n"
   ]
  },
  {
   "cell_type": "code",
   "execution_count": 43,
   "metadata": {
    "collapsed": false
   },
   "outputs": [
    {
     "name": "stdout",
     "output_type": "stream",
     "text": [
      "{1: {1: 1, 2: 1, 3: 2}, 2: {1: 0, 2: 1, 3: 1}}\n",
      "0 0 0 0 0 0 0 0 0 0\n",
      "0 1 1 2 0 0 0 0 0 4\n",
      "0 0 1 1 0 0 0 0 0 2\n",
      "0 0 0 0 0 0 0 0 0 0\n",
      "0 0 0 0 0 0 0 0 0 0\n",
      "0 0 0 0 0 0 0 0 0 0\n",
      "0 0 0 0 0 0 0 0 0 0\n",
      "0 0 0 0 0 0 0 0 0 0\n",
      "0 0 0 0 0 0 0 0 0 0\n"
     ]
    }
   ],
   "source": [
    "a = pivot.T.to_dict()\n",
    "print a\n",
    "for i in range(0,9):\n",
    "    for j in range(0,9):\n",
    "        if i in a and j in a[i]:\n",
    "            print a[i][j],\n",
    "        else:\n",
    "            print 0,\n",
    "\n",
    "    if i in a:\n",
    "        print sum(a[i].values())\n",
    "    else:\n",
    "        print 0\n",
    "\n",
    "        "
   ]
  },
  {
   "cell_type": "code",
   "execution_count": null,
   "metadata": {
    "collapsed": true
   },
   "outputs": [],
   "source": [
    "for key,value in a.iteritems():\n",
    "    print key, sum(value.values())"
   ]
  },
  {
   "cell_type": "code",
   "execution_count": null,
   "metadata": {
    "collapsed": true
   },
   "outputs": [],
   "source": []
  }
 ],
 "metadata": {
  "kernelspec": {
   "display_name": "Python 2",
   "language": "python",
   "name": "python2"
  },
  "language_info": {
   "codemirror_mode": {
    "name": "ipython",
    "version": 2
   },
   "file_extension": ".py",
   "mimetype": "text/x-python",
   "name": "python",
   "nbconvert_exporter": "python",
   "pygments_lexer": "ipython2",
   "version": "2.7.11"
  }
 },
 "nbformat": 4,
 "nbformat_minor": 0
}
