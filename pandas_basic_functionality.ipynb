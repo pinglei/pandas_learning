{
 "cells": [
  {
   "cell_type": "code",
   "execution_count": 2,
   "metadata": {
    "collapsed": true
   },
   "outputs": [],
   "source": [
    "import numpy as np\n",
    "import pandas as pd"
   ]
  },
  {
   "cell_type": "code",
   "execution_count": 3,
   "metadata": {
    "collapsed": false
   },
   "outputs": [
    {
     "name": "stdout",
     "output_type": "stream",
     "text": [
      "0    1.718906\n",
      "1    0.503271\n",
      "2    0.345008\n",
      "3    0.147834\n",
      "4   -0.492887\n",
      "dtype: float64\n",
      "995   -1.522735\n",
      "996   -0.161742\n",
      "997   -0.215290\n",
      "998    0.474298\n",
      "999   -0.261250\n",
      "dtype: float64\n"
     ]
    }
   ],
   "source": [
    "long_series = pd.Series(np.random.randn(1000))\n",
    "print long_series.head()\n",
    "print long_series.tail()"
   ]
  },
  {
   "cell_type": "code",
   "execution_count": 4,
   "metadata": {
    "collapsed": false
   },
   "outputs": [
    {
     "name": "stdout",
     "output_type": "stream",
     "text": [
      "                   a         b         c\n",
      "2000-01-01 -1.203635 -0.123686  0.162814\n",
      "2000-01-02 -0.250310  1.271096  0.020784\n",
      "2000-01-03 -1.257550 -0.935831  1.414401\n",
      "2000-01-04 -0.410831  0.109358 -0.048371\n",
      "2000-01-05 -0.034875  0.284086 -0.156860\n",
      "2000-01-06  0.376877 -1.528831 -0.330429\n",
      "2000-01-07  1.137081 -0.525879 -0.428590\n",
      "2000-01-08  0.655812 -0.598225 -0.643906\n"
     ]
    }
   ],
   "source": [
    "index = pd.date_range('2000-01-01', periods=8)\n",
    "df = pd.DataFrame(np.random.randn(8, 3), index=index, columns=['A', 'B', 'C'])\n",
    "df.columns = [x.lower() for x in df.columns]\n",
    "print df"
   ]
  },
  {
   "cell_type": "code",
   "execution_count": 5,
   "metadata": {
    "collapsed": false
   },
   "outputs": [
    {
     "name": "stdout",
     "output_type": "stream",
     "text": [
      "[[-1.20363534 -0.12368641  0.16281392]\n",
      " [-0.25030986  1.27109625  0.02078399]\n",
      " [-1.25754994 -0.9358306   1.41440136]\n",
      " [-0.41083057  0.10935782 -0.04837089]\n",
      " [-0.03487514  0.28408615 -0.15686021]\n",
      " [ 0.37687734 -1.5288308  -0.3304288 ]\n",
      " [ 1.13708072 -0.52587909 -0.42859027]\n",
      " [ 0.65581244 -0.59822549 -0.64390646]] <type 'numpy.ndarray'>\n"
     ]
    }
   ],
   "source": [
    "print df.values, type(df.values)"
   ]
  },
  {
   "cell_type": "code",
   "execution_count": 6,
   "metadata": {
    "collapsed": false
   },
   "outputs": [
    {
     "name": "stdout",
     "output_type": "stream",
     "text": [
      "        one     three       two\n",
      "a  0.092958       NaN  1.695796\n",
      "b -0.707688  0.848014  0.761491\n",
      "c -1.271493  0.609862 -0.362506\n",
      "d       NaN  0.663901 -0.376502\n"
     ]
    }
   ],
   "source": [
    "df = pd.DataFrame({'one' : pd.Series(np.random.randn(3), index=['a', 'b', 'c']),\n",
    "                    'two' : pd.Series(np.random.randn(4), index=['a', 'b', 'c', 'd']),\n",
    "                    'three' : pd.Series(np.random.randn(3), index=['b', 'c', 'd'])})\n",
    "print df"
   ]
  },
  {
   "cell_type": "code",
   "execution_count": 7,
   "metadata": {
    "collapsed": false
   },
   "outputs": [
    {
     "name": "stdout",
     "output_type": "stream",
     "text": [
      "one     -0.707688\n",
      "three    0.848014\n",
      "two      0.761491\n",
      "Name: b, dtype: float64\n",
      "a    1.695796\n",
      "b    0.761491\n",
      "c   -0.362506\n",
      "d   -0.376502\n",
      "Name: two, dtype: float64\n"
     ]
    }
   ],
   "source": [
    "row = df.ix[1]\n",
    "column = df['two']\n",
    "print row\n",
    "print column"
   ]
  },
  {
   "cell_type": "code",
   "execution_count": 8,
   "metadata": {
    "collapsed": false
   },
   "outputs": [
    {
     "data": {
      "text/html": [
       "<div>\n",
       "<table border=\"1\" class=\"dataframe\">\n",
       "  <thead>\n",
       "    <tr style=\"text-align: right;\">\n",
       "      <th></th>\n",
       "      <th>one</th>\n",
       "      <th>three</th>\n",
       "      <th>two</th>\n",
       "    </tr>\n",
       "  </thead>\n",
       "  <tbody>\n",
       "    <tr>\n",
       "      <th>a</th>\n",
       "      <td>0.800646</td>\n",
       "      <td>NaN</td>\n",
       "      <td>0.934305</td>\n",
       "    </tr>\n",
       "    <tr>\n",
       "      <th>b</th>\n",
       "      <td>0.000000</td>\n",
       "      <td>0.000000</td>\n",
       "      <td>0.000000</td>\n",
       "    </tr>\n",
       "    <tr>\n",
       "      <th>c</th>\n",
       "      <td>-0.563805</td>\n",
       "      <td>-0.238152</td>\n",
       "      <td>-1.123996</td>\n",
       "    </tr>\n",
       "    <tr>\n",
       "      <th>d</th>\n",
       "      <td>NaN</td>\n",
       "      <td>-0.184113</td>\n",
       "      <td>-1.137993</td>\n",
       "    </tr>\n",
       "  </tbody>\n",
       "</table>\n",
       "</div>"
      ],
      "text/plain": [
       "        one     three       two\n",
       "a  0.800646       NaN  0.934305\n",
       "b  0.000000  0.000000  0.000000\n",
       "c -0.563805 -0.238152 -1.123996\n",
       "d       NaN -0.184113 -1.137993"
      ]
     },
     "execution_count": 8,
     "metadata": {},
     "output_type": "execute_result"
    }
   ],
   "source": [
    "df.sub(row, axis='columns')"
   ]
  },
  {
   "cell_type": "code",
   "execution_count": 9,
   "metadata": {
    "collapsed": false
   },
   "outputs": [
    {
     "data": {
      "text/html": [
       "<div>\n",
       "<table border=\"1\" class=\"dataframe\">\n",
       "  <thead>\n",
       "    <tr style=\"text-align: right;\">\n",
       "      <th></th>\n",
       "      <th>one</th>\n",
       "      <th>three</th>\n",
       "      <th>two</th>\n",
       "    </tr>\n",
       "  </thead>\n",
       "  <tbody>\n",
       "    <tr>\n",
       "      <th>a</th>\n",
       "      <td>0.800646</td>\n",
       "      <td>NaN</td>\n",
       "      <td>0.934305</td>\n",
       "    </tr>\n",
       "    <tr>\n",
       "      <th>b</th>\n",
       "      <td>0.000000</td>\n",
       "      <td>0.000000</td>\n",
       "      <td>0.000000</td>\n",
       "    </tr>\n",
       "    <tr>\n",
       "      <th>c</th>\n",
       "      <td>-0.563805</td>\n",
       "      <td>-0.238152</td>\n",
       "      <td>-1.123996</td>\n",
       "    </tr>\n",
       "    <tr>\n",
       "      <th>d</th>\n",
       "      <td>NaN</td>\n",
       "      <td>-0.184113</td>\n",
       "      <td>-1.137993</td>\n",
       "    </tr>\n",
       "  </tbody>\n",
       "</table>\n",
       "</div>"
      ],
      "text/plain": [
       "        one     three       two\n",
       "a  0.800646       NaN  0.934305\n",
       "b  0.000000  0.000000  0.000000\n",
       "c -0.563805 -0.238152 -1.123996\n",
       "d       NaN -0.184113 -1.137993"
      ]
     },
     "execution_count": 9,
     "metadata": {},
     "output_type": "execute_result"
    }
   ],
   "source": [
    "df.sub(row, axis=1)"
   ]
  },
  {
   "cell_type": "code",
   "execution_count": 10,
   "metadata": {
    "collapsed": false
   },
   "outputs": [
    {
     "data": {
      "text/html": [
       "<div>\n",
       "<table border=\"1\" class=\"dataframe\">\n",
       "  <thead>\n",
       "    <tr style=\"text-align: right;\">\n",
       "      <th></th>\n",
       "      <th>one</th>\n",
       "      <th>three</th>\n",
       "      <th>two</th>\n",
       "    </tr>\n",
       "  </thead>\n",
       "  <tbody>\n",
       "    <tr>\n",
       "      <th>a</th>\n",
       "      <td>-1.602838</td>\n",
       "      <td>NaN</td>\n",
       "      <td>0.0</td>\n",
       "    </tr>\n",
       "    <tr>\n",
       "      <th>b</th>\n",
       "      <td>-1.469179</td>\n",
       "      <td>0.086523</td>\n",
       "      <td>0.0</td>\n",
       "    </tr>\n",
       "    <tr>\n",
       "      <th>c</th>\n",
       "      <td>-0.908988</td>\n",
       "      <td>0.972367</td>\n",
       "      <td>0.0</td>\n",
       "    </tr>\n",
       "    <tr>\n",
       "      <th>d</th>\n",
       "      <td>NaN</td>\n",
       "      <td>1.040402</td>\n",
       "      <td>0.0</td>\n",
       "    </tr>\n",
       "  </tbody>\n",
       "</table>\n",
       "</div>"
      ],
      "text/plain": [
       "        one     three  two\n",
       "a -1.602838       NaN  0.0\n",
       "b -1.469179  0.086523  0.0\n",
       "c -0.908988  0.972367  0.0\n",
       "d       NaN  1.040402  0.0"
      ]
     },
     "execution_count": 10,
     "metadata": {},
     "output_type": "execute_result"
    }
   ],
   "source": [
    "df.sub(column, axis=0)"
   ]
  },
  {
   "cell_type": "code",
   "execution_count": 11,
   "metadata": {
    "collapsed": false
   },
   "outputs": [
    {
     "data": {
      "text/html": [
       "<div>\n",
       "<table border=\"1\" class=\"dataframe\">\n",
       "  <thead>\n",
       "    <tr style=\"text-align: right;\">\n",
       "      <th></th>\n",
       "      <th>one</th>\n",
       "      <th>three</th>\n",
       "      <th>two</th>\n",
       "    </tr>\n",
       "  </thead>\n",
       "  <tbody>\n",
       "    <tr>\n",
       "      <th>a</th>\n",
       "      <td>0.092958</td>\n",
       "      <td>NaN</td>\n",
       "      <td>1.695796</td>\n",
       "    </tr>\n",
       "    <tr>\n",
       "      <th>b</th>\n",
       "      <td>-0.707688</td>\n",
       "      <td>0.848014</td>\n",
       "      <td>0.761491</td>\n",
       "    </tr>\n",
       "    <tr>\n",
       "      <th>c</th>\n",
       "      <td>-1.271493</td>\n",
       "      <td>0.609862</td>\n",
       "      <td>-0.362506</td>\n",
       "    </tr>\n",
       "    <tr>\n",
       "      <th>d</th>\n",
       "      <td>NaN</td>\n",
       "      <td>0.663901</td>\n",
       "      <td>-0.376502</td>\n",
       "    </tr>\n",
       "  </tbody>\n",
       "</table>\n",
       "</div>"
      ],
      "text/plain": [
       "        one     three       two\n",
       "a  0.092958       NaN  1.695796\n",
       "b -0.707688  0.848014  0.761491\n",
       "c -1.271493  0.609862 -0.362506\n",
       "d       NaN  0.663901 -0.376502"
      ]
     },
     "execution_count": 11,
     "metadata": {},
     "output_type": "execute_result"
    }
   ],
   "source": [
    "df2 = df\n",
    "df2"
   ]
  },
  {
   "cell_type": "code",
   "execution_count": 14,
   "metadata": {
    "collapsed": false
   },
   "outputs": [
    {
     "data": {
      "text/html": [
       "<div>\n",
       "<table border=\"1\" class=\"dataframe\">\n",
       "  <thead>\n",
       "    <tr style=\"text-align: right;\">\n",
       "      <th></th>\n",
       "      <th>one</th>\n",
       "      <th>three</th>\n",
       "      <th>two</th>\n",
       "    </tr>\n",
       "  </thead>\n",
       "  <tbody>\n",
       "    <tr>\n",
       "      <th>a</th>\n",
       "      <td>0.092958</td>\n",
       "      <td>NaN</td>\n",
       "      <td>1.695796</td>\n",
       "    </tr>\n",
       "    <tr>\n",
       "      <th>b</th>\n",
       "      <td>-0.707688</td>\n",
       "      <td>0.848014</td>\n",
       "      <td>0.761491</td>\n",
       "    </tr>\n",
       "    <tr>\n",
       "      <th>c</th>\n",
       "      <td>-1.271493</td>\n",
       "      <td>0.609862</td>\n",
       "      <td>-0.362506</td>\n",
       "    </tr>\n",
       "    <tr>\n",
       "      <th>d</th>\n",
       "      <td>NaN</td>\n",
       "      <td>0.663901</td>\n",
       "      <td>-0.376502</td>\n",
       "    </tr>\n",
       "  </tbody>\n",
       "</table>\n",
       "</div>"
      ],
      "text/plain": [
       "        one     three       two\n",
       "a  0.092958       NaN  1.695796\n",
       "b -0.707688  0.848014  0.761491\n",
       "c -1.271493  0.609862 -0.362506\n",
       "d       NaN  0.663901 -0.376502"
      ]
     },
     "execution_count": 14,
     "metadata": {},
     "output_type": "execute_result"
    }
   ],
   "source": [
    "df + df2\n",
    "df.add(df2, fill_value=0)\n",
    "df2"
   ]
  },
  {
   "cell_type": "code",
   "execution_count": 15,
   "metadata": {
    "collapsed": false
   },
   "outputs": [
    {
     "data": {
      "text/html": [
       "<div>\n",
       "<table border=\"1\" class=\"dataframe\">\n",
       "  <thead>\n",
       "    <tr style=\"text-align: right;\">\n",
       "      <th></th>\n",
       "      <th>one</th>\n",
       "      <th>three</th>\n",
       "      <th>two</th>\n",
       "    </tr>\n",
       "  </thead>\n",
       "  <tbody>\n",
       "    <tr>\n",
       "      <th>a</th>\n",
       "      <td>True</td>\n",
       "      <td>False</td>\n",
       "      <td>True</td>\n",
       "    </tr>\n",
       "    <tr>\n",
       "      <th>b</th>\n",
       "      <td>True</td>\n",
       "      <td>True</td>\n",
       "      <td>True</td>\n",
       "    </tr>\n",
       "    <tr>\n",
       "      <th>c</th>\n",
       "      <td>True</td>\n",
       "      <td>True</td>\n",
       "      <td>True</td>\n",
       "    </tr>\n",
       "    <tr>\n",
       "      <th>d</th>\n",
       "      <td>False</td>\n",
       "      <td>True</td>\n",
       "      <td>True</td>\n",
       "    </tr>\n",
       "  </tbody>\n",
       "</table>\n",
       "</div>"
      ],
      "text/plain": [
       "     one  three   two\n",
       "a   True  False  True\n",
       "b   True   True  True\n",
       "c   True   True  True\n",
       "d  False   True  True"
      ]
     },
     "execution_count": 15,
     "metadata": {},
     "output_type": "execute_result"
    }
   ],
   "source": [
    "df.eq(df2)"
   ]
  },
  {
   "cell_type": "code",
   "execution_count": 16,
   "metadata": {
    "collapsed": false
   },
   "outputs": [
    {
     "data": {
      "text/html": [
       "<div>\n",
       "<table border=\"1\" class=\"dataframe\">\n",
       "  <thead>\n",
       "    <tr style=\"text-align: right;\">\n",
       "      <th></th>\n",
       "      <th>one</th>\n",
       "      <th>three</th>\n",
       "      <th>two</th>\n",
       "    </tr>\n",
       "  </thead>\n",
       "  <tbody>\n",
       "    <tr>\n",
       "      <th>a</th>\n",
       "      <td>False</td>\n",
       "      <td>True</td>\n",
       "      <td>False</td>\n",
       "    </tr>\n",
       "    <tr>\n",
       "      <th>b</th>\n",
       "      <td>False</td>\n",
       "      <td>False</td>\n",
       "      <td>False</td>\n",
       "    </tr>\n",
       "    <tr>\n",
       "      <th>c</th>\n",
       "      <td>False</td>\n",
       "      <td>False</td>\n",
       "      <td>False</td>\n",
       "    </tr>\n",
       "    <tr>\n",
       "      <th>d</th>\n",
       "      <td>True</td>\n",
       "      <td>False</td>\n",
       "      <td>False</td>\n",
       "    </tr>\n",
       "  </tbody>\n",
       "</table>\n",
       "</div>"
      ],
      "text/plain": [
       "     one  three    two\n",
       "a  False   True  False\n",
       "b  False  False  False\n",
       "c  False  False  False\n",
       "d   True  False  False"
      ]
     },
     "execution_count": 16,
     "metadata": {},
     "output_type": "execute_result"
    }
   ],
   "source": [
    "df.ne(df2)"
   ]
  },
  {
   "cell_type": "code",
   "execution_count": 17,
   "metadata": {
    "collapsed": false
   },
   "outputs": [
    {
     "data": {
      "text/html": [
       "<div>\n",
       "<table border=\"1\" class=\"dataframe\">\n",
       "  <thead>\n",
       "    <tr style=\"text-align: right;\">\n",
       "      <th></th>\n",
       "      <th>one</th>\n",
       "      <th>three</th>\n",
       "      <th>two</th>\n",
       "    </tr>\n",
       "  </thead>\n",
       "  <tbody>\n",
       "    <tr>\n",
       "      <th>a</th>\n",
       "      <td>True</td>\n",
       "      <td>False</td>\n",
       "      <td>True</td>\n",
       "    </tr>\n",
       "    <tr>\n",
       "      <th>b</th>\n",
       "      <td>False</td>\n",
       "      <td>True</td>\n",
       "      <td>True</td>\n",
       "    </tr>\n",
       "    <tr>\n",
       "      <th>c</th>\n",
       "      <td>False</td>\n",
       "      <td>True</td>\n",
       "      <td>False</td>\n",
       "    </tr>\n",
       "    <tr>\n",
       "      <th>d</th>\n",
       "      <td>False</td>\n",
       "      <td>True</td>\n",
       "      <td>False</td>\n",
       "    </tr>\n",
       "  </tbody>\n",
       "</table>\n",
       "</div>"
      ],
      "text/plain": [
       "     one  three    two\n",
       "a   True  False   True\n",
       "b  False   True   True\n",
       "c  False   True  False\n",
       "d  False   True  False"
      ]
     },
     "execution_count": 17,
     "metadata": {},
     "output_type": "execute_result"
    }
   ],
   "source": [
    "df>0"
   ]
  },
  {
   "cell_type": "code",
   "execution_count": 24,
   "metadata": {
    "collapsed": false
   },
   "outputs": [
    {
     "data": {
      "text/plain": [
       "one      False\n",
       "three    False\n",
       "two      False\n",
       "dtype: bool"
      ]
     },
     "execution_count": 24,
     "metadata": {},
     "output_type": "execute_result"
    }
   ],
   "source": [
    "(df>0).all()\n"
   ]
  },
  {
   "cell_type": "code",
   "execution_count": 22,
   "metadata": {
    "collapsed": false
   },
   "outputs": [
    {
     "data": {
      "text/plain": [
       "False"
      ]
     },
     "execution_count": 22,
     "metadata": {},
     "output_type": "execute_result"
    }
   ],
   "source": [
    "df.empty"
   ]
  },
  {
   "cell_type": "code",
   "execution_count": 23,
   "metadata": {
    "collapsed": false
   },
   "outputs": [
    {
     "data": {
      "text/plain": [
       "True"
      ]
     },
     "execution_count": 23,
     "metadata": {},
     "output_type": "execute_result"
    }
   ],
   "source": [
    "pd.DataFrame(columns=list('ABD')).empty"
   ]
  },
  {
   "cell_type": "code",
   "execution_count": 25,
   "metadata": {
    "collapsed": false
   },
   "outputs": [
    {
     "data": {
      "text/html": [
       "<div>\n",
       "<table border=\"1\" class=\"dataframe\">\n",
       "  <thead>\n",
       "    <tr style=\"text-align: right;\">\n",
       "      <th></th>\n",
       "      <th>one</th>\n",
       "      <th>three</th>\n",
       "      <th>two</th>\n",
       "    </tr>\n",
       "  </thead>\n",
       "  <tbody>\n",
       "    <tr>\n",
       "      <th>a</th>\n",
       "      <td>True</td>\n",
       "      <td>False</td>\n",
       "      <td>True</td>\n",
       "    </tr>\n",
       "    <tr>\n",
       "      <th>b</th>\n",
       "      <td>True</td>\n",
       "      <td>True</td>\n",
       "      <td>True</td>\n",
       "    </tr>\n",
       "    <tr>\n",
       "      <th>c</th>\n",
       "      <td>True</td>\n",
       "      <td>True</td>\n",
       "      <td>True</td>\n",
       "    </tr>\n",
       "    <tr>\n",
       "      <th>d</th>\n",
       "      <td>False</td>\n",
       "      <td>True</td>\n",
       "      <td>True</td>\n",
       "    </tr>\n",
       "  </tbody>\n",
       "</table>\n",
       "</div>"
      ],
      "text/plain": [
       "     one  three   two\n",
       "a   True  False  True\n",
       "b   True   True  True\n",
       "c   True   True  True\n",
       "d  False   True  True"
      ]
     },
     "execution_count": 25,
     "metadata": {},
     "output_type": "execute_result"
    }
   ],
   "source": [
    "df+df == df*2"
   ]
  },
  {
   "cell_type": "code",
   "execution_count": 26,
   "metadata": {
    "collapsed": false
   },
   "outputs": [
    {
     "data": {
      "text/plain": [
       "True"
      ]
     },
     "execution_count": 26,
     "metadata": {},
     "output_type": "execute_result"
    }
   ],
   "source": [
    "(df+df).equals(df*2)"
   ]
  },
  {
   "cell_type": "code",
   "execution_count": 28,
   "metadata": {
    "collapsed": false
   },
   "outputs": [
    {
     "name": "stdout",
     "output_type": "stream",
     "text": [
      "   col\n",
      "0  foo\n",
      "1    0\n",
      "2  NaN\n",
      "   col\n",
      "0  foo\n",
      "2  NaN\n",
      "1    0\n"
     ]
    }
   ],
   "source": [
    "df1 = pd.DataFrame({'col':['foo', 0, np.nan]})\n",
    "df2 = pd.DataFrame({'col': ['foo', np.nan, 0]}, index=[0,2,1])\n",
    "print df1\n",
    "print df2"
   ]
  },
  {
   "cell_type": "code",
   "execution_count": 31,
   "metadata": {
    "collapsed": false
   },
   "outputs": [
    {
     "data": {
      "text/plain": [
       "False"
      ]
     },
     "execution_count": 31,
     "metadata": {},
     "output_type": "execute_result"
    }
   ],
   "source": [
    "df1.equals(df2)"
   ]
  },
  {
   "cell_type": "code",
   "execution_count": 32,
   "metadata": {
    "collapsed": false
   },
   "outputs": [
    {
     "data": {
      "text/plain": [
       "True"
      ]
     },
     "execution_count": 32,
     "metadata": {},
     "output_type": "execute_result"
    }
   ],
   "source": [
    "df1.equals(df2.sort_index())"
   ]
  },
  {
   "cell_type": "code",
   "execution_count": 33,
   "metadata": {
    "collapsed": true
   },
   "outputs": [],
   "source": [
    "df1 = pd.DataFrame({'A' : [1., np.nan, 3., 5., np.nan],\n",
    "                    'B' : [np.nan, 2., 3., np.nan, 6.]})\n",
    "df2 = pd.DataFrame({'A' : [5., 2., 4., np.nan, 3., 7.],\n",
    "                    'B' : [np.nan, np.nan, 3., 4., 6., 8.]})"
   ]
  },
  {
   "cell_type": "code",
   "execution_count": 34,
   "metadata": {
    "collapsed": false
   },
   "outputs": [
    {
     "name": "stdout",
     "output_type": "stream",
     "text": [
      "     A    B\n",
      "0  1.0  NaN\n",
      "1  NaN  2.0\n",
      "2  3.0  3.0\n",
      "3  5.0  NaN\n",
      "4  NaN  6.0\n",
      "     A    B\n",
      "0  5.0  NaN\n",
      "1  2.0  NaN\n",
      "2  4.0  3.0\n",
      "3  NaN  4.0\n",
      "4  3.0  6.0\n",
      "5  7.0  8.0\n"
     ]
    },
    {
     "data": {
      "text/html": [
       "<div>\n",
       "<table border=\"1\" class=\"dataframe\">\n",
       "  <thead>\n",
       "    <tr style=\"text-align: right;\">\n",
       "      <th></th>\n",
       "      <th>A</th>\n",
       "      <th>B</th>\n",
       "    </tr>\n",
       "  </thead>\n",
       "  <tbody>\n",
       "    <tr>\n",
       "      <th>0</th>\n",
       "      <td>1.0</td>\n",
       "      <td>NaN</td>\n",
       "    </tr>\n",
       "    <tr>\n",
       "      <th>1</th>\n",
       "      <td>2.0</td>\n",
       "      <td>2.0</td>\n",
       "    </tr>\n",
       "    <tr>\n",
       "      <th>2</th>\n",
       "      <td>3.0</td>\n",
       "      <td>3.0</td>\n",
       "    </tr>\n",
       "    <tr>\n",
       "      <th>3</th>\n",
       "      <td>5.0</td>\n",
       "      <td>4.0</td>\n",
       "    </tr>\n",
       "    <tr>\n",
       "      <th>4</th>\n",
       "      <td>3.0</td>\n",
       "      <td>6.0</td>\n",
       "    </tr>\n",
       "    <tr>\n",
       "      <th>5</th>\n",
       "      <td>7.0</td>\n",
       "      <td>8.0</td>\n",
       "    </tr>\n",
       "  </tbody>\n",
       "</table>\n",
       "</div>"
      ],
      "text/plain": [
       "     A    B\n",
       "0  1.0  NaN\n",
       "1  2.0  2.0\n",
       "2  3.0  3.0\n",
       "3  5.0  4.0\n",
       "4  3.0  6.0\n",
       "5  7.0  8.0"
      ]
     },
     "execution_count": 34,
     "metadata": {},
     "output_type": "execute_result"
    }
   ],
   "source": [
    "print df1\n",
    "print df2\n",
    "df1.combine_first(df2)"
   ]
  },
  {
   "cell_type": "code",
   "execution_count": 35,
   "metadata": {
    "collapsed": false
   },
   "outputs": [
    {
     "data": {
      "text/html": [
       "<div>\n",
       "<table border=\"1\" class=\"dataframe\">\n",
       "  <thead>\n",
       "    <tr style=\"text-align: right;\">\n",
       "      <th></th>\n",
       "      <th>one</th>\n",
       "      <th>three</th>\n",
       "      <th>two</th>\n",
       "    </tr>\n",
       "  </thead>\n",
       "  <tbody>\n",
       "    <tr>\n",
       "      <th>a</th>\n",
       "      <td>0.092958</td>\n",
       "      <td>NaN</td>\n",
       "      <td>1.695796</td>\n",
       "    </tr>\n",
       "    <tr>\n",
       "      <th>b</th>\n",
       "      <td>-0.707688</td>\n",
       "      <td>0.848014</td>\n",
       "      <td>0.761491</td>\n",
       "    </tr>\n",
       "    <tr>\n",
       "      <th>c</th>\n",
       "      <td>-1.271493</td>\n",
       "      <td>0.609862</td>\n",
       "      <td>-0.362506</td>\n",
       "    </tr>\n",
       "    <tr>\n",
       "      <th>d</th>\n",
       "      <td>NaN</td>\n",
       "      <td>0.663901</td>\n",
       "      <td>-0.376502</td>\n",
       "    </tr>\n",
       "  </tbody>\n",
       "</table>\n",
       "</div>"
      ],
      "text/plain": [
       "        one     three       two\n",
       "a  0.092958       NaN  1.695796\n",
       "b -0.707688  0.848014  0.761491\n",
       "c -1.271493  0.609862 -0.362506\n",
       "d       NaN  0.663901 -0.376502"
      ]
     },
     "execution_count": 35,
     "metadata": {},
     "output_type": "execute_result"
    }
   ],
   "source": [
    "df"
   ]
  },
  {
   "cell_type": "code",
   "execution_count": 36,
   "metadata": {
    "collapsed": false
   },
   "outputs": [
    {
     "data": {
      "text/plain": [
       "one     -0.628741\n",
       "three    0.707259\n",
       "two      0.429570\n",
       "dtype: float64"
      ]
     },
     "execution_count": 36,
     "metadata": {},
     "output_type": "execute_result"
    }
   ],
   "source": [
    "df.mean(0)"
   ]
  },
  {
   "cell_type": "code",
   "execution_count": 37,
   "metadata": {
    "collapsed": false
   },
   "outputs": [
    {
     "data": {
      "text/plain": [
       "a    0.894377\n",
       "b    0.300606\n",
       "c   -0.341379\n",
       "d    0.143699\n",
       "dtype: float64"
      ]
     },
     "execution_count": 37,
     "metadata": {},
     "output_type": "execute_result"
    }
   ],
   "source": [
    "df.mean(1)"
   ]
  },
  {
   "cell_type": "code",
   "execution_count": 38,
   "metadata": {
    "collapsed": false
   },
   "outputs": [
    {
     "data": {
      "text/plain": [
       "one           NaN\n",
       "three         NaN\n",
       "two      1.718279\n",
       "dtype: float64"
      ]
     },
     "execution_count": 38,
     "metadata": {},
     "output_type": "execute_result"
    }
   ],
   "source": [
    "df.sum(0,skipna=False)"
   ]
  },
  {
   "cell_type": "code",
   "execution_count": 42,
   "metadata": {
    "collapsed": false
   },
   "outputs": [
    {
     "name": "stdout",
     "output_type": "stream",
     "text": [
      "one      0.685643\n",
      "three    0.124856\n",
      "two      0.998438\n",
      "dtype: float64\n",
      "        one     three       two\n",
      "a  1.052587       NaN  1.268207\n",
      "b -0.115143  1.127339  0.332440\n",
      "c -0.937445 -0.780074 -0.793315\n",
      "d       NaN -0.347265 -0.807333\n"
     ]
    }
   ],
   "source": [
    "print df.std()\n",
    "ts_stand = (df - df.mean())/df.std()\n",
    "print ts_stand"
   ]
  },
  {
   "cell_type": "code",
   "execution_count": 43,
   "metadata": {
    "collapsed": false
   },
   "outputs": [
    {
     "data": {
      "text/plain": [
       "one      1.0\n",
       "three    1.0\n",
       "two      1.0\n",
       "dtype: float64"
      ]
     },
     "execution_count": 43,
     "metadata": {},
     "output_type": "execute_result"
    }
   ],
   "source": [
    "ts_stand.std()"
   ]
  },
  {
   "cell_type": "code",
   "execution_count": 46,
   "metadata": {
    "collapsed": false
   },
   "outputs": [
    {
     "name": "stdout",
     "output_type": "stream",
     "text": [
      "        one     three       two\n",
      "a -0.707107       NaN  0.707107\n",
      "b -1.153286  0.626125  0.527161\n",
      "c -0.988584  1.011038 -0.022455\n",
      "d       NaN  0.707107 -0.707107\n"
     ]
    }
   ],
   "source": [
    "xs_stand = df.sub(df.mean(1), axis=0).div(df.std(1),axis=0)\n",
    "print xs_stand"
   ]
  },
  {
   "cell_type": "code",
   "execution_count": 47,
   "metadata": {
    "collapsed": false
   },
   "outputs": [
    {
     "name": "stdout",
     "output_type": "stream",
     "text": [
      "a    1.0\n",
      "b    1.0\n",
      "c    1.0\n",
      "d    1.0\n",
      "dtype: float64\n"
     ]
    }
   ],
   "source": [
    "print xs_stand.std(1)"
   ]
  },
  {
   "cell_type": "code",
   "execution_count": 48,
   "metadata": {
    "collapsed": false
   },
   "outputs": [
    {
     "name": "stdout",
     "output_type": "stream",
     "text": [
      "        one     three       two\n",
      "a  0.092958       NaN  1.695796\n",
      "b -0.707688  0.848014  0.761491\n",
      "c -1.271493  0.609862 -0.362506\n",
      "d       NaN  0.663901 -0.376502\n"
     ]
    },
    {
     "data": {
      "text/html": [
       "<div>\n",
       "<table border=\"1\" class=\"dataframe\">\n",
       "  <thead>\n",
       "    <tr style=\"text-align: right;\">\n",
       "      <th></th>\n",
       "      <th>one</th>\n",
       "      <th>three</th>\n",
       "      <th>two</th>\n",
       "    </tr>\n",
       "  </thead>\n",
       "  <tbody>\n",
       "    <tr>\n",
       "      <th>a</th>\n",
       "      <td>0.092958</td>\n",
       "      <td>NaN</td>\n",
       "      <td>1.695796</td>\n",
       "    </tr>\n",
       "    <tr>\n",
       "      <th>b</th>\n",
       "      <td>-0.614730</td>\n",
       "      <td>0.848014</td>\n",
       "      <td>2.457287</td>\n",
       "    </tr>\n",
       "    <tr>\n",
       "      <th>c</th>\n",
       "      <td>-1.886223</td>\n",
       "      <td>1.457875</td>\n",
       "      <td>2.094781</td>\n",
       "    </tr>\n",
       "    <tr>\n",
       "      <th>d</th>\n",
       "      <td>NaN</td>\n",
       "      <td>2.121776</td>\n",
       "      <td>1.718279</td>\n",
       "    </tr>\n",
       "  </tbody>\n",
       "</table>\n",
       "</div>"
      ],
      "text/plain": [
       "        one     three       two\n",
       "a  0.092958       NaN  1.695796\n",
       "b -0.614730  0.848014  2.457287\n",
       "c -1.886223  1.457875  2.094781\n",
       "d       NaN  2.121776  1.718279"
      ]
     },
     "execution_count": 48,
     "metadata": {},
     "output_type": "execute_result"
    }
   ],
   "source": [
    "print df\n",
    "df.cumsum()"
   ]
  },
  {
   "cell_type": "code",
   "execution_count": 49,
   "metadata": {
    "collapsed": false
   },
   "outputs": [
    {
     "data": {
      "text/plain": [
       "-0.62874108782308447"
      ]
     },
     "execution_count": 49,
     "metadata": {},
     "output_type": "execute_result"
    }
   ],
   "source": [
    "np.mean(df['one'])"
   ]
  },
  {
   "cell_type": "code",
   "execution_count": 50,
   "metadata": {
    "collapsed": false
   },
   "outputs": [
    {
     "data": {
      "text/plain": [
       "nan"
      ]
     },
     "execution_count": 50,
     "metadata": {},
     "output_type": "execute_result"
    }
   ],
   "source": [
    "np.mean(df['one'].values)"
   ]
  },
  {
   "cell_type": "code",
   "execution_count": 51,
   "metadata": {
    "collapsed": false
   },
   "outputs": [
    {
     "name": "stdout",
     "output_type": "stream",
     "text": [
      "            a         b         c         d         e\n",
      "0    0.401332  3.015809 -0.140535  1.611334 -0.386420\n",
      "1    0.045028 -0.189404 -0.063752 -1.886387  0.216212\n",
      "2   -0.300978  0.389917  0.077854 -0.849352  0.505837\n",
      "3    1.883821  2.040372  0.413104  0.275154  0.315248\n",
      "4    0.454804  0.822605  1.880371  0.356812  0.711691\n",
      "5   -0.676484  1.007901  0.293606  1.478483 -0.888328\n",
      "6    0.151768 -1.502526 -0.457642  0.901566 -0.666255\n",
      "7   -1.954469 -0.357537 -0.162501 -0.580500 -0.393388\n",
      "8   -0.553592  0.624339  3.430832  0.386662 -0.165615\n",
      "9    0.742930  0.902720  0.404975  0.193827 -0.120025\n",
      "10   0.394638 -1.523277 -0.057193 -0.855594  0.696145\n",
      "11  -0.088447  0.462262 -0.495889  0.947680 -1.506870\n",
      "12   0.175581 -0.205466 -1.797378 -0.027483  0.370841\n",
      "13   1.206198 -1.381674  0.535634  0.030982 -0.521154\n",
      "14  -2.049856 -0.396968  0.133944  1.234736  1.007981\n",
      "15  -0.731993 -0.904714  0.206402 -1.260920 -0.103552\n",
      "16   1.184405  0.590101 -0.170176 -0.308817 -1.299952\n",
      "17  -0.250226  1.000023  0.673820  0.337891  1.749090\n",
      "18  -1.970853  1.135044  0.775944 -0.385305 -0.366337\n",
      "19  -0.918586  0.235290  0.722288 -1.108738 -1.502371\n",
      "20  -1.433032  0.172755  1.112992 -0.494532  0.796101\n",
      "21  -0.289616  0.821722  0.666071  0.244414  1.097410\n",
      "22   0.588939 -1.126366 -0.139559  0.284000  0.764451\n",
      "23  -0.496265 -0.611364 -1.343642 -0.306235  0.666752\n",
      "24   0.511605 -1.742163 -0.152068 -0.228735 -1.162031\n",
      "25   1.497635  0.845578 -0.249806 -1.514744 -0.470237\n",
      "26   0.492156 -0.049175  0.532656 -0.951030 -0.351522\n",
      "27   1.922825 -1.252691  0.809315 -0.375441 -0.717066\n",
      "28  -1.173714  1.613520  0.824039  0.378456  0.105424\n",
      "29  -0.526224 -0.452915 -0.863809  0.270057 -0.802076\n",
      "..        ...       ...       ...       ...       ...\n",
      "970  1.310308 -0.987443 -0.090994 -0.502263  0.371827\n",
      "971 -1.826062 -0.144097  0.920911  1.356200  1.328225\n",
      "972  0.259717 -0.144009  1.215983 -1.134394  0.557677\n",
      "973 -0.253054  1.383519 -1.215427 -1.326783  0.011747\n",
      "974 -0.326341  0.409547  2.087909 -0.038339  1.655311\n",
      "975  0.170944 -1.426262  2.755298  2.397311 -0.200275\n",
      "976  0.272496  1.031930 -0.074937 -0.415828 -0.968163\n",
      "977  1.099724 -0.115778 -0.221212 -0.865418  0.034190\n",
      "978 -1.867683  1.372144  1.032183  1.434206  0.912981\n",
      "979 -0.706677  2.699752  0.165282  0.968634 -0.221625\n",
      "980 -2.355869  0.167208  0.353659  0.767239 -0.206178\n",
      "981  0.399504  0.579564 -0.042186  0.734402  1.683708\n",
      "982  2.187110 -0.155538 -0.253491 -0.471377 -0.087293\n",
      "983 -0.362325  0.211752 -0.034172  0.588633 -1.381426\n",
      "984 -0.356454 -0.245931 -0.428519 -0.380345 -0.392467\n",
      "985 -0.538520  2.166026 -0.874745  1.015131  0.341066\n",
      "986  1.742435 -1.525140 -0.524192  0.171299 -0.263057\n",
      "987  1.041166  1.898064 -0.221212  1.618694 -0.108057\n",
      "988 -0.589229  1.114357  1.069547  0.603893 -0.475563\n",
      "989 -0.411499  1.860785  1.326097  0.692949  0.679224\n",
      "990 -0.350332 -0.008534 -0.505290 -1.356035  0.281397\n",
      "991  1.324460  2.973492  1.964183 -0.326557  0.174401\n",
      "992  0.215826 -0.903762 -0.565306  1.533930 -0.819110\n",
      "993  1.757126  0.152545 -0.424770  0.466776 -0.196196\n",
      "994  0.735353  1.387494  0.830351 -0.423807  0.692174\n",
      "995 -0.121840  0.366730  1.262520  1.554282  0.119053\n",
      "996 -0.350651 -0.291096 -0.268222  1.245154 -0.611692\n",
      "997 -0.425158  0.081187  0.085554  0.456298  0.021916\n",
      "998 -0.487397  1.045998  0.433444  2.080314 -0.962722\n",
      "999 -0.198523  0.437686 -0.616518 -0.013343 -0.687807\n",
      "\n",
      "[1000 rows x 5 columns]\n"
     ]
    }
   ],
   "source": [
    "frame = pd.DataFrame(np.random.randn(1000, 5), columns=['a', 'b', 'c', 'd', 'e'])\n",
    "print frame"
   ]
  },
  {
   "cell_type": "code",
   "execution_count": 52,
   "metadata": {
    "collapsed": false
   },
   "outputs": [
    {
     "data": {
      "text/html": [
       "<div>\n",
       "<table border=\"1\" class=\"dataframe\">\n",
       "  <thead>\n",
       "    <tr style=\"text-align: right;\">\n",
       "      <th></th>\n",
       "      <th>a</th>\n",
       "      <th>b</th>\n",
       "      <th>c</th>\n",
       "      <th>d</th>\n",
       "      <th>e</th>\n",
       "    </tr>\n",
       "  </thead>\n",
       "  <tbody>\n",
       "    <tr>\n",
       "      <th>0</th>\n",
       "      <td>0.401332</td>\n",
       "      <td>3.015809</td>\n",
       "      <td>-0.140535</td>\n",
       "      <td>1.611334</td>\n",
       "      <td>-0.386420</td>\n",
       "    </tr>\n",
       "    <tr>\n",
       "      <th>2</th>\n",
       "      <td>-0.300978</td>\n",
       "      <td>0.389917</td>\n",
       "      <td>0.077854</td>\n",
       "      <td>-0.849352</td>\n",
       "      <td>0.505837</td>\n",
       "    </tr>\n",
       "    <tr>\n",
       "      <th>4</th>\n",
       "      <td>0.454804</td>\n",
       "      <td>0.822605</td>\n",
       "      <td>1.880371</td>\n",
       "      <td>0.356812</td>\n",
       "      <td>0.711691</td>\n",
       "    </tr>\n",
       "    <tr>\n",
       "      <th>6</th>\n",
       "      <td>0.151768</td>\n",
       "      <td>-1.502526</td>\n",
       "      <td>-0.457642</td>\n",
       "      <td>0.901566</td>\n",
       "      <td>-0.666255</td>\n",
       "    </tr>\n",
       "    <tr>\n",
       "      <th>8</th>\n",
       "      <td>-0.553592</td>\n",
       "      <td>0.624339</td>\n",
       "      <td>3.430832</td>\n",
       "      <td>0.386662</td>\n",
       "      <td>-0.165615</td>\n",
       "    </tr>\n",
       "    <tr>\n",
       "      <th>10</th>\n",
       "      <td>0.394638</td>\n",
       "      <td>-1.523277</td>\n",
       "      <td>-0.057193</td>\n",
       "      <td>-0.855594</td>\n",
       "      <td>0.696145</td>\n",
       "    </tr>\n",
       "    <tr>\n",
       "      <th>12</th>\n",
       "      <td>0.175581</td>\n",
       "      <td>-0.205466</td>\n",
       "      <td>-1.797378</td>\n",
       "      <td>-0.027483</td>\n",
       "      <td>0.370841</td>\n",
       "    </tr>\n",
       "    <tr>\n",
       "      <th>14</th>\n",
       "      <td>-2.049856</td>\n",
       "      <td>-0.396968</td>\n",
       "      <td>0.133944</td>\n",
       "      <td>1.234736</td>\n",
       "      <td>1.007981</td>\n",
       "    </tr>\n",
       "    <tr>\n",
       "      <th>16</th>\n",
       "      <td>1.184405</td>\n",
       "      <td>0.590101</td>\n",
       "      <td>-0.170176</td>\n",
       "      <td>-0.308817</td>\n",
       "      <td>-1.299952</td>\n",
       "    </tr>\n",
       "    <tr>\n",
       "      <th>18</th>\n",
       "      <td>-1.970853</td>\n",
       "      <td>1.135044</td>\n",
       "      <td>0.775944</td>\n",
       "      <td>-0.385305</td>\n",
       "      <td>-0.366337</td>\n",
       "    </tr>\n",
       "    <tr>\n",
       "      <th>20</th>\n",
       "      <td>-1.433032</td>\n",
       "      <td>0.172755</td>\n",
       "      <td>1.112992</td>\n",
       "      <td>-0.494532</td>\n",
       "      <td>0.796101</td>\n",
       "    </tr>\n",
       "    <tr>\n",
       "      <th>22</th>\n",
       "      <td>0.588939</td>\n",
       "      <td>-1.126366</td>\n",
       "      <td>-0.139559</td>\n",
       "      <td>0.284000</td>\n",
       "      <td>0.764451</td>\n",
       "    </tr>\n",
       "    <tr>\n",
       "      <th>24</th>\n",
       "      <td>0.511605</td>\n",
       "      <td>-1.742163</td>\n",
       "      <td>-0.152068</td>\n",
       "      <td>-0.228735</td>\n",
       "      <td>-1.162031</td>\n",
       "    </tr>\n",
       "    <tr>\n",
       "      <th>26</th>\n",
       "      <td>0.492156</td>\n",
       "      <td>-0.049175</td>\n",
       "      <td>0.532656</td>\n",
       "      <td>-0.951030</td>\n",
       "      <td>-0.351522</td>\n",
       "    </tr>\n",
       "    <tr>\n",
       "      <th>28</th>\n",
       "      <td>-1.173714</td>\n",
       "      <td>1.613520</td>\n",
       "      <td>0.824039</td>\n",
       "      <td>0.378456</td>\n",
       "      <td>0.105424</td>\n",
       "    </tr>\n",
       "    <tr>\n",
       "      <th>30</th>\n",
       "      <td>-0.066372</td>\n",
       "      <td>-1.497736</td>\n",
       "      <td>0.354924</td>\n",
       "      <td>1.374580</td>\n",
       "      <td>0.144027</td>\n",
       "    </tr>\n",
       "    <tr>\n",
       "      <th>32</th>\n",
       "      <td>0.931490</td>\n",
       "      <td>1.093617</td>\n",
       "      <td>0.312383</td>\n",
       "      <td>-0.349243</td>\n",
       "      <td>-1.384009</td>\n",
       "    </tr>\n",
       "    <tr>\n",
       "      <th>34</th>\n",
       "      <td>0.282072</td>\n",
       "      <td>0.002546</td>\n",
       "      <td>-1.238936</td>\n",
       "      <td>1.750509</td>\n",
       "      <td>0.753019</td>\n",
       "    </tr>\n",
       "    <tr>\n",
       "      <th>36</th>\n",
       "      <td>1.724141</td>\n",
       "      <td>0.055033</td>\n",
       "      <td>0.345815</td>\n",
       "      <td>-0.079193</td>\n",
       "      <td>0.373376</td>\n",
       "    </tr>\n",
       "    <tr>\n",
       "      <th>38</th>\n",
       "      <td>-0.908442</td>\n",
       "      <td>-0.204992</td>\n",
       "      <td>0.129775</td>\n",
       "      <td>-0.308539</td>\n",
       "      <td>0.329901</td>\n",
       "    </tr>\n",
       "    <tr>\n",
       "      <th>40</th>\n",
       "      <td>0.292489</td>\n",
       "      <td>0.057059</td>\n",
       "      <td>1.424618</td>\n",
       "      <td>-1.427917</td>\n",
       "      <td>0.133062</td>\n",
       "    </tr>\n",
       "    <tr>\n",
       "      <th>42</th>\n",
       "      <td>1.965181</td>\n",
       "      <td>0.857414</td>\n",
       "      <td>0.515602</td>\n",
       "      <td>2.288327</td>\n",
       "      <td>-0.375747</td>\n",
       "    </tr>\n",
       "    <tr>\n",
       "      <th>44</th>\n",
       "      <td>2.075206</td>\n",
       "      <td>-0.365408</td>\n",
       "      <td>-0.754001</td>\n",
       "      <td>-0.716859</td>\n",
       "      <td>-0.643970</td>\n",
       "    </tr>\n",
       "    <tr>\n",
       "      <th>46</th>\n",
       "      <td>-0.153708</td>\n",
       "      <td>-0.176038</td>\n",
       "      <td>-0.103088</td>\n",
       "      <td>0.497766</td>\n",
       "      <td>0.724592</td>\n",
       "    </tr>\n",
       "    <tr>\n",
       "      <th>48</th>\n",
       "      <td>-1.085832</td>\n",
       "      <td>-1.205272</td>\n",
       "      <td>-2.071652</td>\n",
       "      <td>-1.025190</td>\n",
       "      <td>-0.611636</td>\n",
       "    </tr>\n",
       "    <tr>\n",
       "      <th>50</th>\n",
       "      <td>-1.330458</td>\n",
       "      <td>-1.053533</td>\n",
       "      <td>1.416178</td>\n",
       "      <td>-0.708034</td>\n",
       "      <td>0.934868</td>\n",
       "    </tr>\n",
       "    <tr>\n",
       "      <th>52</th>\n",
       "      <td>0.146003</td>\n",
       "      <td>-0.804264</td>\n",
       "      <td>0.667673</td>\n",
       "      <td>0.425577</td>\n",
       "      <td>0.044889</td>\n",
       "    </tr>\n",
       "    <tr>\n",
       "      <th>54</th>\n",
       "      <td>-0.056949</td>\n",
       "      <td>-1.233427</td>\n",
       "      <td>0.029189</td>\n",
       "      <td>-0.035619</td>\n",
       "      <td>-0.178616</td>\n",
       "    </tr>\n",
       "    <tr>\n",
       "      <th>56</th>\n",
       "      <td>0.465155</td>\n",
       "      <td>1.586668</td>\n",
       "      <td>-0.676664</td>\n",
       "      <td>-1.014627</td>\n",
       "      <td>1.276083</td>\n",
       "    </tr>\n",
       "    <tr>\n",
       "      <th>58</th>\n",
       "      <td>-1.532193</td>\n",
       "      <td>0.066304</td>\n",
       "      <td>1.692102</td>\n",
       "      <td>-0.243000</td>\n",
       "      <td>0.169418</td>\n",
       "    </tr>\n",
       "    <tr>\n",
       "      <th>...</th>\n",
       "      <td>...</td>\n",
       "      <td>...</td>\n",
       "      <td>...</td>\n",
       "      <td>...</td>\n",
       "      <td>...</td>\n",
       "    </tr>\n",
       "    <tr>\n",
       "      <th>940</th>\n",
       "      <td>0.223703</td>\n",
       "      <td>-0.606171</td>\n",
       "      <td>-0.415372</td>\n",
       "      <td>-0.875170</td>\n",
       "      <td>1.020829</td>\n",
       "    </tr>\n",
       "    <tr>\n",
       "      <th>942</th>\n",
       "      <td>-1.593262</td>\n",
       "      <td>0.958192</td>\n",
       "      <td>1.071879</td>\n",
       "      <td>1.019012</td>\n",
       "      <td>-0.041986</td>\n",
       "    </tr>\n",
       "    <tr>\n",
       "      <th>944</th>\n",
       "      <td>2.773023</td>\n",
       "      <td>-0.080833</td>\n",
       "      <td>0.464203</td>\n",
       "      <td>-0.930154</td>\n",
       "      <td>0.409914</td>\n",
       "    </tr>\n",
       "    <tr>\n",
       "      <th>946</th>\n",
       "      <td>-0.999563</td>\n",
       "      <td>-2.337754</td>\n",
       "      <td>0.523096</td>\n",
       "      <td>-0.649703</td>\n",
       "      <td>0.692315</td>\n",
       "    </tr>\n",
       "    <tr>\n",
       "      <th>948</th>\n",
       "      <td>1.021543</td>\n",
       "      <td>-0.028880</td>\n",
       "      <td>-0.688957</td>\n",
       "      <td>0.170750</td>\n",
       "      <td>1.365135</td>\n",
       "    </tr>\n",
       "    <tr>\n",
       "      <th>950</th>\n",
       "      <td>-1.301999</td>\n",
       "      <td>0.031521</td>\n",
       "      <td>1.741696</td>\n",
       "      <td>1.031838</td>\n",
       "      <td>-1.538261</td>\n",
       "    </tr>\n",
       "    <tr>\n",
       "      <th>952</th>\n",
       "      <td>0.793979</td>\n",
       "      <td>-0.481639</td>\n",
       "      <td>1.233655</td>\n",
       "      <td>-1.485149</td>\n",
       "      <td>0.093764</td>\n",
       "    </tr>\n",
       "    <tr>\n",
       "      <th>954</th>\n",
       "      <td>-1.408719</td>\n",
       "      <td>-0.101314</td>\n",
       "      <td>0.822720</td>\n",
       "      <td>-0.790445</td>\n",
       "      <td>2.110730</td>\n",
       "    </tr>\n",
       "    <tr>\n",
       "      <th>956</th>\n",
       "      <td>-0.456508</td>\n",
       "      <td>0.556889</td>\n",
       "      <td>0.569152</td>\n",
       "      <td>-1.053575</td>\n",
       "      <td>-0.455045</td>\n",
       "    </tr>\n",
       "    <tr>\n",
       "      <th>958</th>\n",
       "      <td>-0.411044</td>\n",
       "      <td>0.290217</td>\n",
       "      <td>-0.415109</td>\n",
       "      <td>0.580002</td>\n",
       "      <td>-1.532492</td>\n",
       "    </tr>\n",
       "    <tr>\n",
       "      <th>960</th>\n",
       "      <td>0.418645</td>\n",
       "      <td>1.594136</td>\n",
       "      <td>0.534373</td>\n",
       "      <td>0.631201</td>\n",
       "      <td>0.555073</td>\n",
       "    </tr>\n",
       "    <tr>\n",
       "      <th>962</th>\n",
       "      <td>0.528167</td>\n",
       "      <td>-0.000881</td>\n",
       "      <td>0.869496</td>\n",
       "      <td>-0.661142</td>\n",
       "      <td>0.619683</td>\n",
       "    </tr>\n",
       "    <tr>\n",
       "      <th>964</th>\n",
       "      <td>-0.089274</td>\n",
       "      <td>-0.419808</td>\n",
       "      <td>-0.013921</td>\n",
       "      <td>1.613689</td>\n",
       "      <td>-0.304611</td>\n",
       "    </tr>\n",
       "    <tr>\n",
       "      <th>966</th>\n",
       "      <td>0.352191</td>\n",
       "      <td>-0.191876</td>\n",
       "      <td>-0.558646</td>\n",
       "      <td>0.481612</td>\n",
       "      <td>1.573890</td>\n",
       "    </tr>\n",
       "    <tr>\n",
       "      <th>968</th>\n",
       "      <td>0.934581</td>\n",
       "      <td>0.651262</td>\n",
       "      <td>-1.499455</td>\n",
       "      <td>0.114079</td>\n",
       "      <td>-0.712486</td>\n",
       "    </tr>\n",
       "    <tr>\n",
       "      <th>970</th>\n",
       "      <td>1.310308</td>\n",
       "      <td>-0.987443</td>\n",
       "      <td>-0.090994</td>\n",
       "      <td>-0.502263</td>\n",
       "      <td>0.371827</td>\n",
       "    </tr>\n",
       "    <tr>\n",
       "      <th>972</th>\n",
       "      <td>0.259717</td>\n",
       "      <td>-0.144009</td>\n",
       "      <td>1.215983</td>\n",
       "      <td>-1.134394</td>\n",
       "      <td>0.557677</td>\n",
       "    </tr>\n",
       "    <tr>\n",
       "      <th>974</th>\n",
       "      <td>-0.326341</td>\n",
       "      <td>0.409547</td>\n",
       "      <td>2.087909</td>\n",
       "      <td>-0.038339</td>\n",
       "      <td>1.655311</td>\n",
       "    </tr>\n",
       "    <tr>\n",
       "      <th>976</th>\n",
       "      <td>0.272496</td>\n",
       "      <td>1.031930</td>\n",
       "      <td>-0.074937</td>\n",
       "      <td>-0.415828</td>\n",
       "      <td>-0.968163</td>\n",
       "    </tr>\n",
       "    <tr>\n",
       "      <th>978</th>\n",
       "      <td>-1.867683</td>\n",
       "      <td>1.372144</td>\n",
       "      <td>1.032183</td>\n",
       "      <td>1.434206</td>\n",
       "      <td>0.912981</td>\n",
       "    </tr>\n",
       "    <tr>\n",
       "      <th>980</th>\n",
       "      <td>-2.355869</td>\n",
       "      <td>0.167208</td>\n",
       "      <td>0.353659</td>\n",
       "      <td>0.767239</td>\n",
       "      <td>-0.206178</td>\n",
       "    </tr>\n",
       "    <tr>\n",
       "      <th>982</th>\n",
       "      <td>2.187110</td>\n",
       "      <td>-0.155538</td>\n",
       "      <td>-0.253491</td>\n",
       "      <td>-0.471377</td>\n",
       "      <td>-0.087293</td>\n",
       "    </tr>\n",
       "    <tr>\n",
       "      <th>984</th>\n",
       "      <td>-0.356454</td>\n",
       "      <td>-0.245931</td>\n",
       "      <td>-0.428519</td>\n",
       "      <td>-0.380345</td>\n",
       "      <td>-0.392467</td>\n",
       "    </tr>\n",
       "    <tr>\n",
       "      <th>986</th>\n",
       "      <td>1.742435</td>\n",
       "      <td>-1.525140</td>\n",
       "      <td>-0.524192</td>\n",
       "      <td>0.171299</td>\n",
       "      <td>-0.263057</td>\n",
       "    </tr>\n",
       "    <tr>\n",
       "      <th>988</th>\n",
       "      <td>-0.589229</td>\n",
       "      <td>1.114357</td>\n",
       "      <td>1.069547</td>\n",
       "      <td>0.603893</td>\n",
       "      <td>-0.475563</td>\n",
       "    </tr>\n",
       "    <tr>\n",
       "      <th>990</th>\n",
       "      <td>-0.350332</td>\n",
       "      <td>-0.008534</td>\n",
       "      <td>-0.505290</td>\n",
       "      <td>-1.356035</td>\n",
       "      <td>0.281397</td>\n",
       "    </tr>\n",
       "    <tr>\n",
       "      <th>992</th>\n",
       "      <td>0.215826</td>\n",
       "      <td>-0.903762</td>\n",
       "      <td>-0.565306</td>\n",
       "      <td>1.533930</td>\n",
       "      <td>-0.819110</td>\n",
       "    </tr>\n",
       "    <tr>\n",
       "      <th>994</th>\n",
       "      <td>0.735353</td>\n",
       "      <td>1.387494</td>\n",
       "      <td>0.830351</td>\n",
       "      <td>-0.423807</td>\n",
       "      <td>0.692174</td>\n",
       "    </tr>\n",
       "    <tr>\n",
       "      <th>996</th>\n",
       "      <td>-0.350651</td>\n",
       "      <td>-0.291096</td>\n",
       "      <td>-0.268222</td>\n",
       "      <td>1.245154</td>\n",
       "      <td>-0.611692</td>\n",
       "    </tr>\n",
       "    <tr>\n",
       "      <th>998</th>\n",
       "      <td>-0.487397</td>\n",
       "      <td>1.045998</td>\n",
       "      <td>0.433444</td>\n",
       "      <td>2.080314</td>\n",
       "      <td>-0.962722</td>\n",
       "    </tr>\n",
       "  </tbody>\n",
       "</table>\n",
       "<p>500 rows × 5 columns</p>\n",
       "</div>"
      ],
      "text/plain": [
       "            a         b         c         d         e\n",
       "0    0.401332  3.015809 -0.140535  1.611334 -0.386420\n",
       "2   -0.300978  0.389917  0.077854 -0.849352  0.505837\n",
       "4    0.454804  0.822605  1.880371  0.356812  0.711691\n",
       "6    0.151768 -1.502526 -0.457642  0.901566 -0.666255\n",
       "8   -0.553592  0.624339  3.430832  0.386662 -0.165615\n",
       "10   0.394638 -1.523277 -0.057193 -0.855594  0.696145\n",
       "12   0.175581 -0.205466 -1.797378 -0.027483  0.370841\n",
       "14  -2.049856 -0.396968  0.133944  1.234736  1.007981\n",
       "16   1.184405  0.590101 -0.170176 -0.308817 -1.299952\n",
       "18  -1.970853  1.135044  0.775944 -0.385305 -0.366337\n",
       "20  -1.433032  0.172755  1.112992 -0.494532  0.796101\n",
       "22   0.588939 -1.126366 -0.139559  0.284000  0.764451\n",
       "24   0.511605 -1.742163 -0.152068 -0.228735 -1.162031\n",
       "26   0.492156 -0.049175  0.532656 -0.951030 -0.351522\n",
       "28  -1.173714  1.613520  0.824039  0.378456  0.105424\n",
       "30  -0.066372 -1.497736  0.354924  1.374580  0.144027\n",
       "32   0.931490  1.093617  0.312383 -0.349243 -1.384009\n",
       "34   0.282072  0.002546 -1.238936  1.750509  0.753019\n",
       "36   1.724141  0.055033  0.345815 -0.079193  0.373376\n",
       "38  -0.908442 -0.204992  0.129775 -0.308539  0.329901\n",
       "40   0.292489  0.057059  1.424618 -1.427917  0.133062\n",
       "42   1.965181  0.857414  0.515602  2.288327 -0.375747\n",
       "44   2.075206 -0.365408 -0.754001 -0.716859 -0.643970\n",
       "46  -0.153708 -0.176038 -0.103088  0.497766  0.724592\n",
       "48  -1.085832 -1.205272 -2.071652 -1.025190 -0.611636\n",
       "50  -1.330458 -1.053533  1.416178 -0.708034  0.934868\n",
       "52   0.146003 -0.804264  0.667673  0.425577  0.044889\n",
       "54  -0.056949 -1.233427  0.029189 -0.035619 -0.178616\n",
       "56   0.465155  1.586668 -0.676664 -1.014627  1.276083\n",
       "58  -1.532193  0.066304  1.692102 -0.243000  0.169418\n",
       "..        ...       ...       ...       ...       ...\n",
       "940  0.223703 -0.606171 -0.415372 -0.875170  1.020829\n",
       "942 -1.593262  0.958192  1.071879  1.019012 -0.041986\n",
       "944  2.773023 -0.080833  0.464203 -0.930154  0.409914\n",
       "946 -0.999563 -2.337754  0.523096 -0.649703  0.692315\n",
       "948  1.021543 -0.028880 -0.688957  0.170750  1.365135\n",
       "950 -1.301999  0.031521  1.741696  1.031838 -1.538261\n",
       "952  0.793979 -0.481639  1.233655 -1.485149  0.093764\n",
       "954 -1.408719 -0.101314  0.822720 -0.790445  2.110730\n",
       "956 -0.456508  0.556889  0.569152 -1.053575 -0.455045\n",
       "958 -0.411044  0.290217 -0.415109  0.580002 -1.532492\n",
       "960  0.418645  1.594136  0.534373  0.631201  0.555073\n",
       "962  0.528167 -0.000881  0.869496 -0.661142  0.619683\n",
       "964 -0.089274 -0.419808 -0.013921  1.613689 -0.304611\n",
       "966  0.352191 -0.191876 -0.558646  0.481612  1.573890\n",
       "968  0.934581  0.651262 -1.499455  0.114079 -0.712486\n",
       "970  1.310308 -0.987443 -0.090994 -0.502263  0.371827\n",
       "972  0.259717 -0.144009  1.215983 -1.134394  0.557677\n",
       "974 -0.326341  0.409547  2.087909 -0.038339  1.655311\n",
       "976  0.272496  1.031930 -0.074937 -0.415828 -0.968163\n",
       "978 -1.867683  1.372144  1.032183  1.434206  0.912981\n",
       "980 -2.355869  0.167208  0.353659  0.767239 -0.206178\n",
       "982  2.187110 -0.155538 -0.253491 -0.471377 -0.087293\n",
       "984 -0.356454 -0.245931 -0.428519 -0.380345 -0.392467\n",
       "986  1.742435 -1.525140 -0.524192  0.171299 -0.263057\n",
       "988 -0.589229  1.114357  1.069547  0.603893 -0.475563\n",
       "990 -0.350332 -0.008534 -0.505290 -1.356035  0.281397\n",
       "992  0.215826 -0.903762 -0.565306  1.533930 -0.819110\n",
       "994  0.735353  1.387494  0.830351 -0.423807  0.692174\n",
       "996 -0.350651 -0.291096 -0.268222  1.245154 -0.611692\n",
       "998 -0.487397  1.045998  0.433444  2.080314 -0.962722\n",
       "\n",
       "[500 rows x 5 columns]"
      ]
     },
     "execution_count": 52,
     "metadata": {},
     "output_type": "execute_result"
    }
   ],
   "source": [
    "frame.ix[::2]"
   ]
  },
  {
   "cell_type": "code",
   "execution_count": 53,
   "metadata": {
    "collapsed": false
   },
   "outputs": [
    {
     "name": "stdout",
     "output_type": "stream",
     "text": [
      "0   -0.505091\n",
      "1    0.418656\n",
      "2   -1.086740\n",
      "3   -1.703454\n",
      "4   -0.510263\n",
      "dtype: float64\n"
     ]
    }
   ],
   "source": [
    "s1 = pd.Series(np.random.randn(5))\n",
    "print s1"
   ]
  },
  {
   "cell_type": "code",
   "execution_count": 54,
   "metadata": {
    "collapsed": false
   },
   "outputs": [
    {
     "data": {
      "text/plain": [
       "(3, 1)"
      ]
     },
     "execution_count": 54,
     "metadata": {},
     "output_type": "execute_result"
    }
   ],
   "source": [
    "s1.idxmin(), s1.idxmax()"
   ]
  },
  {
   "cell_type": "code",
   "execution_count": 56,
   "metadata": {
    "collapsed": false
   },
   "outputs": [],
   "source": [
    "df1 = pd.DataFrame(np.random.randn(5, 3), columns=list('ABC'))"
   ]
  },
  {
   "cell_type": "code",
   "execution_count": 57,
   "metadata": {
    "collapsed": false
   },
   "outputs": [
    {
     "data": {
      "text/html": [
       "<div>\n",
       "<table border=\"1\" class=\"dataframe\">\n",
       "  <thead>\n",
       "    <tr style=\"text-align: right;\">\n",
       "      <th></th>\n",
       "      <th>A</th>\n",
       "      <th>B</th>\n",
       "      <th>C</th>\n",
       "    </tr>\n",
       "  </thead>\n",
       "  <tbody>\n",
       "    <tr>\n",
       "      <th>0</th>\n",
       "      <td>0.038941</td>\n",
       "      <td>0.068466</td>\n",
       "      <td>0.065477</td>\n",
       "    </tr>\n",
       "    <tr>\n",
       "      <th>1</th>\n",
       "      <td>1.360119</td>\n",
       "      <td>0.461873</td>\n",
       "      <td>0.086755</td>\n",
       "    </tr>\n",
       "    <tr>\n",
       "      <th>2</th>\n",
       "      <td>0.344080</td>\n",
       "      <td>-0.403314</td>\n",
       "      <td>0.963892</td>\n",
       "    </tr>\n",
       "    <tr>\n",
       "      <th>3</th>\n",
       "      <td>0.404655</td>\n",
       "      <td>-0.658195</td>\n",
       "      <td>-1.742355</td>\n",
       "    </tr>\n",
       "    <tr>\n",
       "      <th>4</th>\n",
       "      <td>0.148110</td>\n",
       "      <td>-0.920364</td>\n",
       "      <td>-0.451697</td>\n",
       "    </tr>\n",
       "  </tbody>\n",
       "</table>\n",
       "</div>"
      ],
      "text/plain": [
       "          A         B         C\n",
       "0  0.038941  0.068466  0.065477\n",
       "1  1.360119  0.461873  0.086755\n",
       "2  0.344080 -0.403314  0.963892\n",
       "3  0.404655 -0.658195 -1.742355\n",
       "4  0.148110 -0.920364 -0.451697"
      ]
     },
     "execution_count": 57,
     "metadata": {},
     "output_type": "execute_result"
    }
   ],
   "source": [
    "df1"
   ]
  },
  {
   "cell_type": "code",
   "execution_count": 58,
   "metadata": {
    "collapsed": false
   },
   "outputs": [
    {
     "data": {
      "text/plain": [
       "A    0\n",
       "B    4\n",
       "C    3\n",
       "dtype: int64"
      ]
     },
     "execution_count": 58,
     "metadata": {},
     "output_type": "execute_result"
    }
   ],
   "source": [
    "df1.idxmin(axis=0)"
   ]
  },
  {
   "cell_type": "code",
   "execution_count": 59,
   "metadata": {
    "collapsed": false
   },
   "outputs": [
    {
     "data": {
      "text/plain": [
       "0    B\n",
       "1    A\n",
       "2    C\n",
       "3    A\n",
       "4    A\n",
       "dtype: object"
      ]
     },
     "execution_count": 59,
     "metadata": {},
     "output_type": "execute_result"
    }
   ],
   "source": [
    "df1.idxmax(axis=1)"
   ]
  },
  {
   "cell_type": "code",
   "execution_count": null,
   "metadata": {
    "collapsed": true
   },
   "outputs": [],
   "source": []
  }
 ],
 "metadata": {
  "kernelspec": {
   "display_name": "Python 2",
   "language": "python",
   "name": "python2"
  },
  "language_info": {
   "codemirror_mode": {
    "name": "ipython",
    "version": 2
   },
   "file_extension": ".py",
   "mimetype": "text/x-python",
   "name": "python",
   "nbconvert_exporter": "python",
   "pygments_lexer": "ipython2",
   "version": "2.7.11"
  }
 },
 "nbformat": 4,
 "nbformat_minor": 0
}
