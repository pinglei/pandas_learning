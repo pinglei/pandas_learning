{
 "cells": [
  {
   "cell_type": "code",
   "execution_count": 1,
   "metadata": {
    "collapsed": true
   },
   "outputs": [],
   "source": [
    "import numpy as np\n",
    "import pandas as pd"
   ]
  },
  {
   "cell_type": "code",
   "execution_count": 2,
   "metadata": {
    "collapsed": false
   },
   "outputs": [
    {
     "name": "stdout",
     "output_type": "stream",
     "text": [
      "0   -0.582108\n",
      "1   -0.863240\n",
      "2   -3.626913\n",
      "3    1.958452\n",
      "4   -0.481986\n",
      "dtype: float64\n",
      "995   -1.027824\n",
      "996    0.963711\n",
      "997    0.792358\n",
      "998   -0.218449\n",
      "999   -0.002880\n",
      "dtype: float64\n"
     ]
    }
   ],
   "source": [
    "long_series = pd.Series(np.random.randn(1000))\n",
    "print long_series.head()\n",
    "print long_series.tail()"
   ]
  },
  {
   "cell_type": "code",
   "execution_count": 3,
   "metadata": {
    "collapsed": false
   },
   "outputs": [
    {
     "name": "stdout",
     "output_type": "stream",
     "text": [
      "                   a         b         c\n",
      "2000-01-01  0.328590  1.439517 -0.212495\n",
      "2000-01-02 -0.140952  0.201381 -1.185168\n",
      "2000-01-03 -1.089701  0.800202 -0.113148\n",
      "2000-01-04 -0.182381 -0.914860 -0.203346\n",
      "2000-01-05  0.342428  0.430906  2.343374\n",
      "2000-01-06  0.398791  0.595992  0.824954\n",
      "2000-01-07  0.011249 -0.543641  1.142912\n",
      "2000-01-08  0.690409  0.290071 -0.380978\n"
     ]
    }
   ],
   "source": [
    "index = pd.date_range('2000-01-01', periods=8)\n",
    "df = pd.DataFrame(np.random.randn(8, 3), index=index, columns=['A', 'B', 'C'])\n",
    "df.columns = [x.lower() for x in df.columns]\n",
    "print df"
   ]
  },
  {
   "cell_type": "code",
   "execution_count": 4,
   "metadata": {
    "collapsed": false
   },
   "outputs": [
    {
     "name": "stdout",
     "output_type": "stream",
     "text": [
      "[[ 0.32858992  1.43951708 -0.21249524]\n",
      " [-0.14095202  0.20138058 -1.18516833]\n",
      " [-1.08970145  0.80020209 -0.11314812]\n",
      " [-0.18238098 -0.91485969 -0.20334608]\n",
      " [ 0.34242771  0.43090647  2.34337407]\n",
      " [ 0.39879056  0.59599157  0.82495396]\n",
      " [ 0.0112493  -0.54364052  1.14291216]\n",
      " [ 0.69040884  0.29007145 -0.38097825]] <type 'numpy.ndarray'>\n"
     ]
    }
   ],
   "source": [
    "print df.values, type(df.values)"
   ]
  },
  {
   "cell_type": "code",
   "execution_count": 5,
   "metadata": {
    "collapsed": false
   },
   "outputs": [
    {
     "name": "stdout",
     "output_type": "stream",
     "text": [
      "        one     three       two\n",
      "a  0.577716       NaN -0.103012\n",
      "b -0.958164 -1.484507 -0.382895\n",
      "c -0.358257 -0.105039  0.682108\n",
      "d       NaN -0.168444 -0.311164\n"
     ]
    }
   ],
   "source": [
    "df = pd.DataFrame({'one' : pd.Series(np.random.randn(3), index=['a', 'b', 'c']),\n",
    "                    'two' : pd.Series(np.random.randn(4), index=['a', 'b', 'c', 'd']),\n",
    "                    'three' : pd.Series(np.random.randn(3), index=['b', 'c', 'd'])})\n",
    "print df"
   ]
  },
  {
   "cell_type": "code",
   "execution_count": 6,
   "metadata": {
    "collapsed": false
   },
   "outputs": [
    {
     "name": "stdout",
     "output_type": "stream",
     "text": [
      "one     -0.958164\n",
      "three   -1.484507\n",
      "two     -0.382895\n",
      "Name: b, dtype: float64\n",
      "a   -0.103012\n",
      "b   -0.382895\n",
      "c    0.682108\n",
      "d   -0.311164\n",
      "Name: two, dtype: float64\n"
     ]
    }
   ],
   "source": [
    "row = df.ix[1]\n",
    "column = df['two']\n",
    "print row\n",
    "print column"
   ]
  },
  {
   "cell_type": "code",
   "execution_count": 7,
   "metadata": {
    "collapsed": false
   },
   "outputs": [
    {
     "data": {
      "text/html": [
       "<div>\n",
       "<table border=\"1\" class=\"dataframe\">\n",
       "  <thead>\n",
       "    <tr style=\"text-align: right;\">\n",
       "      <th></th>\n",
       "      <th>one</th>\n",
       "      <th>three</th>\n",
       "      <th>two</th>\n",
       "    </tr>\n",
       "  </thead>\n",
       "  <tbody>\n",
       "    <tr>\n",
       "      <th>a</th>\n",
       "      <td>1.535880</td>\n",
       "      <td>NaN</td>\n",
       "      <td>0.279883</td>\n",
       "    </tr>\n",
       "    <tr>\n",
       "      <th>b</th>\n",
       "      <td>0.000000</td>\n",
       "      <td>0.000000</td>\n",
       "      <td>0.000000</td>\n",
       "    </tr>\n",
       "    <tr>\n",
       "      <th>c</th>\n",
       "      <td>0.599907</td>\n",
       "      <td>1.379468</td>\n",
       "      <td>1.065003</td>\n",
       "    </tr>\n",
       "    <tr>\n",
       "      <th>d</th>\n",
       "      <td>NaN</td>\n",
       "      <td>1.316063</td>\n",
       "      <td>0.071732</td>\n",
       "    </tr>\n",
       "  </tbody>\n",
       "</table>\n",
       "</div>"
      ],
      "text/plain": [
       "        one     three       two\n",
       "a  1.535880       NaN  0.279883\n",
       "b  0.000000  0.000000  0.000000\n",
       "c  0.599907  1.379468  1.065003\n",
       "d       NaN  1.316063  0.071732"
      ]
     },
     "execution_count": 7,
     "metadata": {},
     "output_type": "execute_result"
    }
   ],
   "source": [
    "df.sub(row, axis='columns')"
   ]
  },
  {
   "cell_type": "code",
   "execution_count": 8,
   "metadata": {
    "collapsed": false
   },
   "outputs": [
    {
     "data": {
      "text/html": [
       "<div>\n",
       "<table border=\"1\" class=\"dataframe\">\n",
       "  <thead>\n",
       "    <tr style=\"text-align: right;\">\n",
       "      <th></th>\n",
       "      <th>one</th>\n",
       "      <th>three</th>\n",
       "      <th>two</th>\n",
       "    </tr>\n",
       "  </thead>\n",
       "  <tbody>\n",
       "    <tr>\n",
       "      <th>a</th>\n",
       "      <td>1.535880</td>\n",
       "      <td>NaN</td>\n",
       "      <td>0.279883</td>\n",
       "    </tr>\n",
       "    <tr>\n",
       "      <th>b</th>\n",
       "      <td>0.000000</td>\n",
       "      <td>0.000000</td>\n",
       "      <td>0.000000</td>\n",
       "    </tr>\n",
       "    <tr>\n",
       "      <th>c</th>\n",
       "      <td>0.599907</td>\n",
       "      <td>1.379468</td>\n",
       "      <td>1.065003</td>\n",
       "    </tr>\n",
       "    <tr>\n",
       "      <th>d</th>\n",
       "      <td>NaN</td>\n",
       "      <td>1.316063</td>\n",
       "      <td>0.071732</td>\n",
       "    </tr>\n",
       "  </tbody>\n",
       "</table>\n",
       "</div>"
      ],
      "text/plain": [
       "        one     three       two\n",
       "a  1.535880       NaN  0.279883\n",
       "b  0.000000  0.000000  0.000000\n",
       "c  0.599907  1.379468  1.065003\n",
       "d       NaN  1.316063  0.071732"
      ]
     },
     "execution_count": 8,
     "metadata": {},
     "output_type": "execute_result"
    }
   ],
   "source": [
    "df.sub(row, axis=1)"
   ]
  },
  {
   "cell_type": "code",
   "execution_count": 9,
   "metadata": {
    "collapsed": false
   },
   "outputs": [
    {
     "data": {
      "text/html": [
       "<div>\n",
       "<table border=\"1\" class=\"dataframe\">\n",
       "  <thead>\n",
       "    <tr style=\"text-align: right;\">\n",
       "      <th></th>\n",
       "      <th>one</th>\n",
       "      <th>three</th>\n",
       "      <th>two</th>\n",
       "    </tr>\n",
       "  </thead>\n",
       "  <tbody>\n",
       "    <tr>\n",
       "      <th>a</th>\n",
       "      <td>0.680728</td>\n",
       "      <td>NaN</td>\n",
       "      <td>0.0</td>\n",
       "    </tr>\n",
       "    <tr>\n",
       "      <th>b</th>\n",
       "      <td>-0.575268</td>\n",
       "      <td>-1.101612</td>\n",
       "      <td>0.0</td>\n",
       "    </tr>\n",
       "    <tr>\n",
       "      <th>c</th>\n",
       "      <td>-1.040365</td>\n",
       "      <td>-0.787147</td>\n",
       "      <td>0.0</td>\n",
       "    </tr>\n",
       "    <tr>\n",
       "      <th>d</th>\n",
       "      <td>NaN</td>\n",
       "      <td>0.142720</td>\n",
       "      <td>0.0</td>\n",
       "    </tr>\n",
       "  </tbody>\n",
       "</table>\n",
       "</div>"
      ],
      "text/plain": [
       "        one     three  two\n",
       "a  0.680728       NaN  0.0\n",
       "b -0.575268 -1.101612  0.0\n",
       "c -1.040365 -0.787147  0.0\n",
       "d       NaN  0.142720  0.0"
      ]
     },
     "execution_count": 9,
     "metadata": {},
     "output_type": "execute_result"
    }
   ],
   "source": [
    "df.sub(column, axis=0)"
   ]
  },
  {
   "cell_type": "code",
   "execution_count": 10,
   "metadata": {
    "collapsed": false
   },
   "outputs": [
    {
     "data": {
      "text/html": [
       "<div>\n",
       "<table border=\"1\" class=\"dataframe\">\n",
       "  <thead>\n",
       "    <tr style=\"text-align: right;\">\n",
       "      <th></th>\n",
       "      <th>one</th>\n",
       "      <th>three</th>\n",
       "      <th>two</th>\n",
       "    </tr>\n",
       "  </thead>\n",
       "  <tbody>\n",
       "    <tr>\n",
       "      <th>a</th>\n",
       "      <td>0.577716</td>\n",
       "      <td>NaN</td>\n",
       "      <td>-0.103012</td>\n",
       "    </tr>\n",
       "    <tr>\n",
       "      <th>b</th>\n",
       "      <td>-0.958164</td>\n",
       "      <td>-1.484507</td>\n",
       "      <td>-0.382895</td>\n",
       "    </tr>\n",
       "    <tr>\n",
       "      <th>c</th>\n",
       "      <td>-0.358257</td>\n",
       "      <td>-0.105039</td>\n",
       "      <td>0.682108</td>\n",
       "    </tr>\n",
       "    <tr>\n",
       "      <th>d</th>\n",
       "      <td>NaN</td>\n",
       "      <td>-0.168444</td>\n",
       "      <td>-0.311164</td>\n",
       "    </tr>\n",
       "  </tbody>\n",
       "</table>\n",
       "</div>"
      ],
      "text/plain": [
       "        one     three       two\n",
       "a  0.577716       NaN -0.103012\n",
       "b -0.958164 -1.484507 -0.382895\n",
       "c -0.358257 -0.105039  0.682108\n",
       "d       NaN -0.168444 -0.311164"
      ]
     },
     "execution_count": 10,
     "metadata": {},
     "output_type": "execute_result"
    }
   ],
   "source": [
    "df2 = df\n",
    "df2"
   ]
  },
  {
   "cell_type": "code",
   "execution_count": 11,
   "metadata": {
    "collapsed": false
   },
   "outputs": [
    {
     "data": {
      "text/html": [
       "<div>\n",
       "<table border=\"1\" class=\"dataframe\">\n",
       "  <thead>\n",
       "    <tr style=\"text-align: right;\">\n",
       "      <th></th>\n",
       "      <th>one</th>\n",
       "      <th>three</th>\n",
       "      <th>two</th>\n",
       "    </tr>\n",
       "  </thead>\n",
       "  <tbody>\n",
       "    <tr>\n",
       "      <th>a</th>\n",
       "      <td>0.577716</td>\n",
       "      <td>NaN</td>\n",
       "      <td>-0.103012</td>\n",
       "    </tr>\n",
       "    <tr>\n",
       "      <th>b</th>\n",
       "      <td>-0.958164</td>\n",
       "      <td>-1.484507</td>\n",
       "      <td>-0.382895</td>\n",
       "    </tr>\n",
       "    <tr>\n",
       "      <th>c</th>\n",
       "      <td>-0.358257</td>\n",
       "      <td>-0.105039</td>\n",
       "      <td>0.682108</td>\n",
       "    </tr>\n",
       "    <tr>\n",
       "      <th>d</th>\n",
       "      <td>NaN</td>\n",
       "      <td>-0.168444</td>\n",
       "      <td>-0.311164</td>\n",
       "    </tr>\n",
       "  </tbody>\n",
       "</table>\n",
       "</div>"
      ],
      "text/plain": [
       "        one     three       two\n",
       "a  0.577716       NaN -0.103012\n",
       "b -0.958164 -1.484507 -0.382895\n",
       "c -0.358257 -0.105039  0.682108\n",
       "d       NaN -0.168444 -0.311164"
      ]
     },
     "execution_count": 11,
     "metadata": {},
     "output_type": "execute_result"
    }
   ],
   "source": [
    "df + df2\n",
    "df.add(df2, fill_value=0)\n",
    "df2"
   ]
  },
  {
   "cell_type": "code",
   "execution_count": 12,
   "metadata": {
    "collapsed": false
   },
   "outputs": [
    {
     "data": {
      "text/html": [
       "<div>\n",
       "<table border=\"1\" class=\"dataframe\">\n",
       "  <thead>\n",
       "    <tr style=\"text-align: right;\">\n",
       "      <th></th>\n",
       "      <th>one</th>\n",
       "      <th>three</th>\n",
       "      <th>two</th>\n",
       "    </tr>\n",
       "  </thead>\n",
       "  <tbody>\n",
       "    <tr>\n",
       "      <th>a</th>\n",
       "      <td>True</td>\n",
       "      <td>False</td>\n",
       "      <td>True</td>\n",
       "    </tr>\n",
       "    <tr>\n",
       "      <th>b</th>\n",
       "      <td>True</td>\n",
       "      <td>True</td>\n",
       "      <td>True</td>\n",
       "    </tr>\n",
       "    <tr>\n",
       "      <th>c</th>\n",
       "      <td>True</td>\n",
       "      <td>True</td>\n",
       "      <td>True</td>\n",
       "    </tr>\n",
       "    <tr>\n",
       "      <th>d</th>\n",
       "      <td>False</td>\n",
       "      <td>True</td>\n",
       "      <td>True</td>\n",
       "    </tr>\n",
       "  </tbody>\n",
       "</table>\n",
       "</div>"
      ],
      "text/plain": [
       "     one  three   two\n",
       "a   True  False  True\n",
       "b   True   True  True\n",
       "c   True   True  True\n",
       "d  False   True  True"
      ]
     },
     "execution_count": 12,
     "metadata": {},
     "output_type": "execute_result"
    }
   ],
   "source": [
    "df.eq(df2)"
   ]
  },
  {
   "cell_type": "code",
   "execution_count": 13,
   "metadata": {
    "collapsed": false
   },
   "outputs": [
    {
     "data": {
      "text/html": [
       "<div>\n",
       "<table border=\"1\" class=\"dataframe\">\n",
       "  <thead>\n",
       "    <tr style=\"text-align: right;\">\n",
       "      <th></th>\n",
       "      <th>one</th>\n",
       "      <th>three</th>\n",
       "      <th>two</th>\n",
       "    </tr>\n",
       "  </thead>\n",
       "  <tbody>\n",
       "    <tr>\n",
       "      <th>a</th>\n",
       "      <td>False</td>\n",
       "      <td>True</td>\n",
       "      <td>False</td>\n",
       "    </tr>\n",
       "    <tr>\n",
       "      <th>b</th>\n",
       "      <td>False</td>\n",
       "      <td>False</td>\n",
       "      <td>False</td>\n",
       "    </tr>\n",
       "    <tr>\n",
       "      <th>c</th>\n",
       "      <td>False</td>\n",
       "      <td>False</td>\n",
       "      <td>False</td>\n",
       "    </tr>\n",
       "    <tr>\n",
       "      <th>d</th>\n",
       "      <td>True</td>\n",
       "      <td>False</td>\n",
       "      <td>False</td>\n",
       "    </tr>\n",
       "  </tbody>\n",
       "</table>\n",
       "</div>"
      ],
      "text/plain": [
       "     one  three    two\n",
       "a  False   True  False\n",
       "b  False  False  False\n",
       "c  False  False  False\n",
       "d   True  False  False"
      ]
     },
     "execution_count": 13,
     "metadata": {},
     "output_type": "execute_result"
    }
   ],
   "source": [
    "df.ne(df2)"
   ]
  },
  {
   "cell_type": "code",
   "execution_count": 14,
   "metadata": {
    "collapsed": false
   },
   "outputs": [
    {
     "data": {
      "text/html": [
       "<div>\n",
       "<table border=\"1\" class=\"dataframe\">\n",
       "  <thead>\n",
       "    <tr style=\"text-align: right;\">\n",
       "      <th></th>\n",
       "      <th>one</th>\n",
       "      <th>three</th>\n",
       "      <th>two</th>\n",
       "    </tr>\n",
       "  </thead>\n",
       "  <tbody>\n",
       "    <tr>\n",
       "      <th>a</th>\n",
       "      <td>True</td>\n",
       "      <td>False</td>\n",
       "      <td>False</td>\n",
       "    </tr>\n",
       "    <tr>\n",
       "      <th>b</th>\n",
       "      <td>False</td>\n",
       "      <td>False</td>\n",
       "      <td>False</td>\n",
       "    </tr>\n",
       "    <tr>\n",
       "      <th>c</th>\n",
       "      <td>False</td>\n",
       "      <td>False</td>\n",
       "      <td>True</td>\n",
       "    </tr>\n",
       "    <tr>\n",
       "      <th>d</th>\n",
       "      <td>False</td>\n",
       "      <td>False</td>\n",
       "      <td>False</td>\n",
       "    </tr>\n",
       "  </tbody>\n",
       "</table>\n",
       "</div>"
      ],
      "text/plain": [
       "     one  three    two\n",
       "a   True  False  False\n",
       "b  False  False  False\n",
       "c  False  False   True\n",
       "d  False  False  False"
      ]
     },
     "execution_count": 14,
     "metadata": {},
     "output_type": "execute_result"
    }
   ],
   "source": [
    "df>0"
   ]
  },
  {
   "cell_type": "code",
   "execution_count": 15,
   "metadata": {
    "collapsed": false
   },
   "outputs": [
    {
     "data": {
      "text/plain": [
       "one      False\n",
       "three    False\n",
       "two      False\n",
       "dtype: bool"
      ]
     },
     "execution_count": 15,
     "metadata": {},
     "output_type": "execute_result"
    }
   ],
   "source": [
    "(df>0).all()\n"
   ]
  },
  {
   "cell_type": "code",
   "execution_count": 16,
   "metadata": {
    "collapsed": false
   },
   "outputs": [
    {
     "data": {
      "text/plain": [
       "False"
      ]
     },
     "execution_count": 16,
     "metadata": {},
     "output_type": "execute_result"
    }
   ],
   "source": [
    "df.empty"
   ]
  },
  {
   "cell_type": "code",
   "execution_count": 17,
   "metadata": {
    "collapsed": false
   },
   "outputs": [
    {
     "data": {
      "text/plain": [
       "True"
      ]
     },
     "execution_count": 17,
     "metadata": {},
     "output_type": "execute_result"
    }
   ],
   "source": [
    "pd.DataFrame(columns=list('ABD')).empty"
   ]
  },
  {
   "cell_type": "code",
   "execution_count": 18,
   "metadata": {
    "collapsed": false
   },
   "outputs": [
    {
     "data": {
      "text/html": [
       "<div>\n",
       "<table border=\"1\" class=\"dataframe\">\n",
       "  <thead>\n",
       "    <tr style=\"text-align: right;\">\n",
       "      <th></th>\n",
       "      <th>one</th>\n",
       "      <th>three</th>\n",
       "      <th>two</th>\n",
       "    </tr>\n",
       "  </thead>\n",
       "  <tbody>\n",
       "    <tr>\n",
       "      <th>a</th>\n",
       "      <td>True</td>\n",
       "      <td>False</td>\n",
       "      <td>True</td>\n",
       "    </tr>\n",
       "    <tr>\n",
       "      <th>b</th>\n",
       "      <td>True</td>\n",
       "      <td>True</td>\n",
       "      <td>True</td>\n",
       "    </tr>\n",
       "    <tr>\n",
       "      <th>c</th>\n",
       "      <td>True</td>\n",
       "      <td>True</td>\n",
       "      <td>True</td>\n",
       "    </tr>\n",
       "    <tr>\n",
       "      <th>d</th>\n",
       "      <td>False</td>\n",
       "      <td>True</td>\n",
       "      <td>True</td>\n",
       "    </tr>\n",
       "  </tbody>\n",
       "</table>\n",
       "</div>"
      ],
      "text/plain": [
       "     one  three   two\n",
       "a   True  False  True\n",
       "b   True   True  True\n",
       "c   True   True  True\n",
       "d  False   True  True"
      ]
     },
     "execution_count": 18,
     "metadata": {},
     "output_type": "execute_result"
    }
   ],
   "source": [
    "df+df == df*2"
   ]
  },
  {
   "cell_type": "code",
   "execution_count": 19,
   "metadata": {
    "collapsed": false
   },
   "outputs": [
    {
     "data": {
      "text/plain": [
       "True"
      ]
     },
     "execution_count": 19,
     "metadata": {},
     "output_type": "execute_result"
    }
   ],
   "source": [
    "(df+df).equals(df*2)"
   ]
  },
  {
   "cell_type": "code",
   "execution_count": 20,
   "metadata": {
    "collapsed": false
   },
   "outputs": [
    {
     "name": "stdout",
     "output_type": "stream",
     "text": [
      "   col\n",
      "0  foo\n",
      "1    0\n",
      "2  NaN\n",
      "   col\n",
      "0  foo\n",
      "2  NaN\n",
      "1    0\n"
     ]
    }
   ],
   "source": [
    "df1 = pd.DataFrame({'col':['foo', 0, np.nan]})\n",
    "df2 = pd.DataFrame({'col': ['foo', np.nan, 0]}, index=[0,2,1])\n",
    "print df1\n",
    "print df2"
   ]
  },
  {
   "cell_type": "code",
   "execution_count": 21,
   "metadata": {
    "collapsed": false
   },
   "outputs": [
    {
     "data": {
      "text/plain": [
       "False"
      ]
     },
     "execution_count": 21,
     "metadata": {},
     "output_type": "execute_result"
    }
   ],
   "source": [
    "df1.equals(df2)"
   ]
  },
  {
   "cell_type": "code",
   "execution_count": 22,
   "metadata": {
    "collapsed": false
   },
   "outputs": [
    {
     "data": {
      "text/plain": [
       "True"
      ]
     },
     "execution_count": 22,
     "metadata": {},
     "output_type": "execute_result"
    }
   ],
   "source": [
    "df1.equals(df2.sort_index())"
   ]
  },
  {
   "cell_type": "code",
   "execution_count": 23,
   "metadata": {
    "collapsed": true
   },
   "outputs": [],
   "source": [
    "df1 = pd.DataFrame({'A' : [1., np.nan, 3., 5., np.nan],\n",
    "                    'B' : [np.nan, 2., 3., np.nan, 6.]})\n",
    "df2 = pd.DataFrame({'A' : [5., 2., 4., np.nan, 3., 7.],\n",
    "                    'B' : [np.nan, np.nan, 3., 4., 6., 8.]})"
   ]
  },
  {
   "cell_type": "code",
   "execution_count": 24,
   "metadata": {
    "collapsed": false
   },
   "outputs": [
    {
     "name": "stdout",
     "output_type": "stream",
     "text": [
      "     A    B\n",
      "0  1.0  NaN\n",
      "1  NaN  2.0\n",
      "2  3.0  3.0\n",
      "3  5.0  NaN\n",
      "4  NaN  6.0\n",
      "     A    B\n",
      "0  5.0  NaN\n",
      "1  2.0  NaN\n",
      "2  4.0  3.0\n",
      "3  NaN  4.0\n",
      "4  3.0  6.0\n",
      "5  7.0  8.0\n"
     ]
    },
    {
     "data": {
      "text/html": [
       "<div>\n",
       "<table border=\"1\" class=\"dataframe\">\n",
       "  <thead>\n",
       "    <tr style=\"text-align: right;\">\n",
       "      <th></th>\n",
       "      <th>A</th>\n",
       "      <th>B</th>\n",
       "    </tr>\n",
       "  </thead>\n",
       "  <tbody>\n",
       "    <tr>\n",
       "      <th>0</th>\n",
       "      <td>1.0</td>\n",
       "      <td>NaN</td>\n",
       "    </tr>\n",
       "    <tr>\n",
       "      <th>1</th>\n",
       "      <td>2.0</td>\n",
       "      <td>2.0</td>\n",
       "    </tr>\n",
       "    <tr>\n",
       "      <th>2</th>\n",
       "      <td>3.0</td>\n",
       "      <td>3.0</td>\n",
       "    </tr>\n",
       "    <tr>\n",
       "      <th>3</th>\n",
       "      <td>5.0</td>\n",
       "      <td>4.0</td>\n",
       "    </tr>\n",
       "    <tr>\n",
       "      <th>4</th>\n",
       "      <td>3.0</td>\n",
       "      <td>6.0</td>\n",
       "    </tr>\n",
       "    <tr>\n",
       "      <th>5</th>\n",
       "      <td>7.0</td>\n",
       "      <td>8.0</td>\n",
       "    </tr>\n",
       "  </tbody>\n",
       "</table>\n",
       "</div>"
      ],
      "text/plain": [
       "     A    B\n",
       "0  1.0  NaN\n",
       "1  2.0  2.0\n",
       "2  3.0  3.0\n",
       "3  5.0  4.0\n",
       "4  3.0  6.0\n",
       "5  7.0  8.0"
      ]
     },
     "execution_count": 24,
     "metadata": {},
     "output_type": "execute_result"
    }
   ],
   "source": [
    "print df1\n",
    "print df2\n",
    "df1.combine_first(df2)"
   ]
  },
  {
   "cell_type": "code",
   "execution_count": 25,
   "metadata": {
    "collapsed": false
   },
   "outputs": [
    {
     "data": {
      "text/html": [
       "<div>\n",
       "<table border=\"1\" class=\"dataframe\">\n",
       "  <thead>\n",
       "    <tr style=\"text-align: right;\">\n",
       "      <th></th>\n",
       "      <th>one</th>\n",
       "      <th>three</th>\n",
       "      <th>two</th>\n",
       "    </tr>\n",
       "  </thead>\n",
       "  <tbody>\n",
       "    <tr>\n",
       "      <th>a</th>\n",
       "      <td>0.577716</td>\n",
       "      <td>NaN</td>\n",
       "      <td>-0.103012</td>\n",
       "    </tr>\n",
       "    <tr>\n",
       "      <th>b</th>\n",
       "      <td>-0.958164</td>\n",
       "      <td>-1.484507</td>\n",
       "      <td>-0.382895</td>\n",
       "    </tr>\n",
       "    <tr>\n",
       "      <th>c</th>\n",
       "      <td>-0.358257</td>\n",
       "      <td>-0.105039</td>\n",
       "      <td>0.682108</td>\n",
       "    </tr>\n",
       "    <tr>\n",
       "      <th>d</th>\n",
       "      <td>NaN</td>\n",
       "      <td>-0.168444</td>\n",
       "      <td>-0.311164</td>\n",
       "    </tr>\n",
       "  </tbody>\n",
       "</table>\n",
       "</div>"
      ],
      "text/plain": [
       "        one     three       two\n",
       "a  0.577716       NaN -0.103012\n",
       "b -0.958164 -1.484507 -0.382895\n",
       "c -0.358257 -0.105039  0.682108\n",
       "d       NaN -0.168444 -0.311164"
      ]
     },
     "execution_count": 25,
     "metadata": {},
     "output_type": "execute_result"
    }
   ],
   "source": [
    "df"
   ]
  },
  {
   "cell_type": "code",
   "execution_count": 26,
   "metadata": {
    "collapsed": false
   },
   "outputs": [
    {
     "data": {
      "text/plain": [
       "one     -0.246235\n",
       "three   -0.585997\n",
       "two     -0.028741\n",
       "dtype: float64"
      ]
     },
     "execution_count": 26,
     "metadata": {},
     "output_type": "execute_result"
    }
   ],
   "source": [
    "df.mean(0)"
   ]
  },
  {
   "cell_type": "code",
   "execution_count": 27,
   "metadata": {
    "collapsed": false
   },
   "outputs": [
    {
     "data": {
      "text/plain": [
       "a    0.237352\n",
       "b   -0.941856\n",
       "c    0.072937\n",
       "d   -0.239804\n",
       "dtype: float64"
      ]
     },
     "execution_count": 27,
     "metadata": {},
     "output_type": "execute_result"
    }
   ],
   "source": [
    "df.mean(1)"
   ]
  },
  {
   "cell_type": "code",
   "execution_count": 28,
   "metadata": {
    "collapsed": false
   },
   "outputs": [
    {
     "data": {
      "text/plain": [
       "one           NaN\n",
       "three         NaN\n",
       "two     -0.114964\n",
       "dtype: float64"
      ]
     },
     "execution_count": 28,
     "metadata": {},
     "output_type": "execute_result"
    }
   ],
   "source": [
    "df.sum(0,skipna=False)"
   ]
  },
  {
   "cell_type": "code",
   "execution_count": 29,
   "metadata": {
    "collapsed": false
   },
   "outputs": [
    {
     "name": "stdout",
     "output_type": "stream",
     "text": [
      "one      0.774043\n",
      "three    0.778778\n",
      "two      0.488539\n",
      "dtype: float64\n",
      "        one     three       two\n",
      "a  1.064476       NaN -0.152028\n",
      "b -0.919753 -1.153743 -0.724926\n",
      "c -0.144723  0.617580  1.455051\n",
      "d       NaN  0.536164 -0.578097\n"
     ]
    }
   ],
   "source": [
    "print df.std()\n",
    "ts_stand = (df - df.mean())/df.std()\n",
    "print ts_stand"
   ]
  },
  {
   "cell_type": "code",
   "execution_count": 30,
   "metadata": {
    "collapsed": false
   },
   "outputs": [
    {
     "data": {
      "text/plain": [
       "one      1.0\n",
       "three    1.0\n",
       "two      1.0\n",
       "dtype: float64"
      ]
     },
     "execution_count": 30,
     "metadata": {},
     "output_type": "execute_result"
    }
   ],
   "source": [
    "ts_stand.std()"
   ]
  },
  {
   "cell_type": "code",
   "execution_count": 31,
   "metadata": {
    "collapsed": false
   },
   "outputs": [
    {
     "name": "stdout",
     "output_type": "stream",
     "text": [
      "        one     three       two\n",
      "a  0.707107       NaN -0.707107\n",
      "b -0.029598 -0.984872  1.014471\n",
      "c -0.794774 -0.328045  1.122818\n",
      "d       NaN  0.707107 -0.707107\n"
     ]
    }
   ],
   "source": [
    "xs_stand = df.sub(df.mean(1), axis=0).div(df.std(1),axis=0)\n",
    "print xs_stand"
   ]
  },
  {
   "cell_type": "code",
   "execution_count": 32,
   "metadata": {
    "collapsed": false
   },
   "outputs": [
    {
     "name": "stdout",
     "output_type": "stream",
     "text": [
      "a    1.0\n",
      "b    1.0\n",
      "c    1.0\n",
      "d    1.0\n",
      "dtype: float64\n"
     ]
    }
   ],
   "source": [
    "print xs_stand.std(1)"
   ]
  },
  {
   "cell_type": "code",
   "execution_count": 33,
   "metadata": {
    "collapsed": false
   },
   "outputs": [
    {
     "name": "stdout",
     "output_type": "stream",
     "text": [
      "        one     three       two\n",
      "a  0.577716       NaN -0.103012\n",
      "b -0.958164 -1.484507 -0.382895\n",
      "c -0.358257 -0.105039  0.682108\n",
      "d       NaN -0.168444 -0.311164\n"
     ]
    },
    {
     "data": {
      "text/html": [
       "<div>\n",
       "<table border=\"1\" class=\"dataframe\">\n",
       "  <thead>\n",
       "    <tr style=\"text-align: right;\">\n",
       "      <th></th>\n",
       "      <th>one</th>\n",
       "      <th>three</th>\n",
       "      <th>two</th>\n",
       "    </tr>\n",
       "  </thead>\n",
       "  <tbody>\n",
       "    <tr>\n",
       "      <th>a</th>\n",
       "      <td>0.577716</td>\n",
       "      <td>NaN</td>\n",
       "      <td>-0.103012</td>\n",
       "    </tr>\n",
       "    <tr>\n",
       "      <th>b</th>\n",
       "      <td>-0.380448</td>\n",
       "      <td>-1.484507</td>\n",
       "      <td>-0.485908</td>\n",
       "    </tr>\n",
       "    <tr>\n",
       "      <th>c</th>\n",
       "      <td>-0.738705</td>\n",
       "      <td>-1.589547</td>\n",
       "      <td>0.196200</td>\n",
       "    </tr>\n",
       "    <tr>\n",
       "      <th>d</th>\n",
       "      <td>NaN</td>\n",
       "      <td>-1.757991</td>\n",
       "      <td>-0.114964</td>\n",
       "    </tr>\n",
       "  </tbody>\n",
       "</table>\n",
       "</div>"
      ],
      "text/plain": [
       "        one     three       two\n",
       "a  0.577716       NaN -0.103012\n",
       "b -0.380448 -1.484507 -0.485908\n",
       "c -0.738705 -1.589547  0.196200\n",
       "d       NaN -1.757991 -0.114964"
      ]
     },
     "execution_count": 33,
     "metadata": {},
     "output_type": "execute_result"
    }
   ],
   "source": [
    "print df\n",
    "df.cumsum()"
   ]
  },
  {
   "cell_type": "code",
   "execution_count": 34,
   "metadata": {
    "collapsed": false
   },
   "outputs": [
    {
     "data": {
      "text/plain": [
       "-0.24623506580569318"
      ]
     },
     "execution_count": 34,
     "metadata": {},
     "output_type": "execute_result"
    }
   ],
   "source": [
    "np.mean(df['one'])"
   ]
  },
  {
   "cell_type": "code",
   "execution_count": 35,
   "metadata": {
    "collapsed": false
   },
   "outputs": [
    {
     "data": {
      "text/plain": [
       "nan"
      ]
     },
     "execution_count": 35,
     "metadata": {},
     "output_type": "execute_result"
    }
   ],
   "source": [
    "np.mean(df['one'].values)"
   ]
  },
  {
   "cell_type": "code",
   "execution_count": 36,
   "metadata": {
    "collapsed": false
   },
   "outputs": [
    {
     "name": "stdout",
     "output_type": "stream",
     "text": [
      "            a         b         c         d         e\n",
      "0   -0.485911  0.296308  0.364474  0.298963 -0.313502\n",
      "1   -1.853647 -1.083676 -0.521087 -0.835451 -0.809153\n",
      "2   -0.719638  0.233920 -1.059725 -0.133826 -0.601983\n",
      "3    0.945453 -0.603840 -0.510451  0.819184 -0.105370\n",
      "4   -0.317644  0.513591 -1.072588  0.281225 -0.238236\n",
      "5   -1.615334  0.338089  0.495207  0.709517  1.278396\n",
      "6   -0.274450  2.332755  0.753673 -2.009803  0.570811\n",
      "7    2.131892  1.105423 -1.035859 -0.918185 -0.507382\n",
      "8    1.598870  0.501388 -1.072569 -1.851330  0.443952\n",
      "9    0.810974  1.077197 -0.866217 -0.157655  1.057579\n",
      "10   1.040736  0.192141 -2.036213  1.201515 -0.060761\n",
      "11   0.658781 -0.196570  1.257876 -0.955992  0.174301\n",
      "12   0.499312  1.266685 -1.241248  0.055114 -0.293116\n",
      "13  -0.327811  0.495051  0.659717  1.547744 -1.726582\n",
      "14   0.355664  1.246046  0.616459 -1.094179  1.224177\n",
      "15   0.153724 -1.242967 -0.494591  0.725434  0.703441\n",
      "16  -0.203017  0.937745  1.176213 -1.002390 -0.677946\n",
      "17  -0.986275  0.417082 -0.209092  0.108295 -1.806902\n",
      "18  -1.430301 -0.348723  0.443796  1.706298  1.592944\n",
      "19   0.016522  0.182207  1.220477  1.967472 -1.421919\n",
      "20  -0.393250  1.097041  1.077162 -0.199511  0.251831\n",
      "21  -0.887455 -0.686608  0.663379  2.269309  0.344679\n",
      "22  -0.413857 -0.898553 -2.210917 -1.467530  0.890111\n",
      "23  -0.889883  1.037701  1.846267  0.916465 -1.468637\n",
      "24  -0.658516 -0.129804  0.343106  1.740000  2.419670\n",
      "25  -0.173484 -0.845272  0.431126  0.269104  0.847287\n",
      "26  -1.746391  1.035948 -0.595932 -1.283674  0.233364\n",
      "27  -2.688606 -0.999902  1.179056 -0.591840  1.620117\n",
      "28  -0.996674 -1.133378 -1.230087 -0.216951  0.300600\n",
      "29   0.823954  0.803807 -0.549605  1.144950  0.647049\n",
      "..        ...       ...       ...       ...       ...\n",
      "970  0.856803  2.052093 -1.957485  0.773280 -0.023535\n",
      "971  1.960208 -1.621652  1.738320  0.214273  0.976998\n",
      "972 -1.851608 -0.651980  0.114543 -0.279546 -1.659781\n",
      "973 -1.263212  0.661645  1.828553 -0.558657  0.143474\n",
      "974  0.594113 -1.266044  0.914428 -0.051966 -0.923558\n",
      "975  1.460471  0.006474  1.007805  1.078922 -1.682954\n",
      "976  0.330202  1.270329 -0.190807 -0.816553  0.143781\n",
      "977  0.808326  0.654124  0.510548 -1.216703  0.906665\n",
      "978  1.392900 -1.340062  0.437641  1.158305  1.865921\n",
      "979 -2.080823  0.075428  0.575950 -1.546229 -0.479487\n",
      "980  0.177597 -1.208934  0.286461 -1.135924 -0.613996\n",
      "981 -0.556111  1.866613  0.269966  0.030987  0.912263\n",
      "982 -0.712701 -0.845475 -1.817984  1.731434 -1.235787\n",
      "983 -0.359679  0.825593 -0.005630  0.819889 -0.678225\n",
      "984 -0.888449 -0.105162 -0.301062  0.061917 -0.693589\n",
      "985 -0.410975 -0.239849  0.550697  1.558923  1.090756\n",
      "986 -0.412910 -0.716914  1.869780 -0.608627  0.084801\n",
      "987 -0.429326  2.490147 -1.104811  0.230583 -0.648647\n",
      "988 -0.960939 -0.140023  0.252932 -0.659422  1.288284\n",
      "989  0.013870  0.596382  0.551296  0.323207 -0.584753\n",
      "990 -1.659442 -1.007350  0.447864  0.595908  1.423300\n",
      "991 -1.343601 -0.436548 -0.802254 -0.539567 -0.876252\n",
      "992 -0.208778 -0.371880 -0.591022 -0.954291  1.572130\n",
      "993  0.162063  0.644445  0.081291 -0.023180 -0.487411\n",
      "994  0.936125 -0.086540  1.091334  0.694521 -0.290248\n",
      "995 -0.195645  0.112445  0.575685 -0.490631  0.312018\n",
      "996  0.272442  0.241111 -0.348401 -2.006582 -2.541812\n",
      "997  0.401095 -1.976497 -3.035610 -0.812441 -1.427523\n",
      "998  1.059748 -1.201869  0.914760 -0.297354  0.123690\n",
      "999  0.020989 -0.992315 -1.275403 -0.904374  0.898242\n",
      "\n",
      "[1000 rows x 5 columns]\n"
     ]
    }
   ],
   "source": [
    "frame = pd.DataFrame(np.random.randn(1000, 5), columns=['a', 'b', 'c', 'd', 'e'])\n",
    "print frame"
   ]
  },
  {
   "cell_type": "code",
   "execution_count": 37,
   "metadata": {
    "collapsed": false
   },
   "outputs": [
    {
     "data": {
      "text/html": [
       "<div>\n",
       "<table border=\"1\" class=\"dataframe\">\n",
       "  <thead>\n",
       "    <tr style=\"text-align: right;\">\n",
       "      <th></th>\n",
       "      <th>a</th>\n",
       "      <th>b</th>\n",
       "      <th>c</th>\n",
       "      <th>d</th>\n",
       "      <th>e</th>\n",
       "    </tr>\n",
       "  </thead>\n",
       "  <tbody>\n",
       "    <tr>\n",
       "      <th>0</th>\n",
       "      <td>-0.485911</td>\n",
       "      <td>0.296308</td>\n",
       "      <td>0.364474</td>\n",
       "      <td>0.298963</td>\n",
       "      <td>-0.313502</td>\n",
       "    </tr>\n",
       "    <tr>\n",
       "      <th>2</th>\n",
       "      <td>-0.719638</td>\n",
       "      <td>0.233920</td>\n",
       "      <td>-1.059725</td>\n",
       "      <td>-0.133826</td>\n",
       "      <td>-0.601983</td>\n",
       "    </tr>\n",
       "    <tr>\n",
       "      <th>4</th>\n",
       "      <td>-0.317644</td>\n",
       "      <td>0.513591</td>\n",
       "      <td>-1.072588</td>\n",
       "      <td>0.281225</td>\n",
       "      <td>-0.238236</td>\n",
       "    </tr>\n",
       "    <tr>\n",
       "      <th>6</th>\n",
       "      <td>-0.274450</td>\n",
       "      <td>2.332755</td>\n",
       "      <td>0.753673</td>\n",
       "      <td>-2.009803</td>\n",
       "      <td>0.570811</td>\n",
       "    </tr>\n",
       "    <tr>\n",
       "      <th>8</th>\n",
       "      <td>1.598870</td>\n",
       "      <td>0.501388</td>\n",
       "      <td>-1.072569</td>\n",
       "      <td>-1.851330</td>\n",
       "      <td>0.443952</td>\n",
       "    </tr>\n",
       "    <tr>\n",
       "      <th>10</th>\n",
       "      <td>1.040736</td>\n",
       "      <td>0.192141</td>\n",
       "      <td>-2.036213</td>\n",
       "      <td>1.201515</td>\n",
       "      <td>-0.060761</td>\n",
       "    </tr>\n",
       "    <tr>\n",
       "      <th>12</th>\n",
       "      <td>0.499312</td>\n",
       "      <td>1.266685</td>\n",
       "      <td>-1.241248</td>\n",
       "      <td>0.055114</td>\n",
       "      <td>-0.293116</td>\n",
       "    </tr>\n",
       "    <tr>\n",
       "      <th>14</th>\n",
       "      <td>0.355664</td>\n",
       "      <td>1.246046</td>\n",
       "      <td>0.616459</td>\n",
       "      <td>-1.094179</td>\n",
       "      <td>1.224177</td>\n",
       "    </tr>\n",
       "    <tr>\n",
       "      <th>16</th>\n",
       "      <td>-0.203017</td>\n",
       "      <td>0.937745</td>\n",
       "      <td>1.176213</td>\n",
       "      <td>-1.002390</td>\n",
       "      <td>-0.677946</td>\n",
       "    </tr>\n",
       "    <tr>\n",
       "      <th>18</th>\n",
       "      <td>-1.430301</td>\n",
       "      <td>-0.348723</td>\n",
       "      <td>0.443796</td>\n",
       "      <td>1.706298</td>\n",
       "      <td>1.592944</td>\n",
       "    </tr>\n",
       "    <tr>\n",
       "      <th>20</th>\n",
       "      <td>-0.393250</td>\n",
       "      <td>1.097041</td>\n",
       "      <td>1.077162</td>\n",
       "      <td>-0.199511</td>\n",
       "      <td>0.251831</td>\n",
       "    </tr>\n",
       "    <tr>\n",
       "      <th>22</th>\n",
       "      <td>-0.413857</td>\n",
       "      <td>-0.898553</td>\n",
       "      <td>-2.210917</td>\n",
       "      <td>-1.467530</td>\n",
       "      <td>0.890111</td>\n",
       "    </tr>\n",
       "    <tr>\n",
       "      <th>24</th>\n",
       "      <td>-0.658516</td>\n",
       "      <td>-0.129804</td>\n",
       "      <td>0.343106</td>\n",
       "      <td>1.740000</td>\n",
       "      <td>2.419670</td>\n",
       "    </tr>\n",
       "    <tr>\n",
       "      <th>26</th>\n",
       "      <td>-1.746391</td>\n",
       "      <td>1.035948</td>\n",
       "      <td>-0.595932</td>\n",
       "      <td>-1.283674</td>\n",
       "      <td>0.233364</td>\n",
       "    </tr>\n",
       "    <tr>\n",
       "      <th>28</th>\n",
       "      <td>-0.996674</td>\n",
       "      <td>-1.133378</td>\n",
       "      <td>-1.230087</td>\n",
       "      <td>-0.216951</td>\n",
       "      <td>0.300600</td>\n",
       "    </tr>\n",
       "    <tr>\n",
       "      <th>30</th>\n",
       "      <td>1.128698</td>\n",
       "      <td>1.602030</td>\n",
       "      <td>-1.018163</td>\n",
       "      <td>-2.107193</td>\n",
       "      <td>-0.083814</td>\n",
       "    </tr>\n",
       "    <tr>\n",
       "      <th>32</th>\n",
       "      <td>0.790773</td>\n",
       "      <td>-2.085629</td>\n",
       "      <td>0.697222</td>\n",
       "      <td>0.112826</td>\n",
       "      <td>-1.089289</td>\n",
       "    </tr>\n",
       "    <tr>\n",
       "      <th>34</th>\n",
       "      <td>0.118227</td>\n",
       "      <td>-1.538702</td>\n",
       "      <td>-1.211994</td>\n",
       "      <td>0.247911</td>\n",
       "      <td>-0.298539</td>\n",
       "    </tr>\n",
       "    <tr>\n",
       "      <th>36</th>\n",
       "      <td>-0.173523</td>\n",
       "      <td>1.996579</td>\n",
       "      <td>0.002578</td>\n",
       "      <td>0.644535</td>\n",
       "      <td>-0.514210</td>\n",
       "    </tr>\n",
       "    <tr>\n",
       "      <th>38</th>\n",
       "      <td>1.649907</td>\n",
       "      <td>-1.582651</td>\n",
       "      <td>0.431384</td>\n",
       "      <td>0.305880</td>\n",
       "      <td>0.802210</td>\n",
       "    </tr>\n",
       "    <tr>\n",
       "      <th>40</th>\n",
       "      <td>-0.707301</td>\n",
       "      <td>2.112051</td>\n",
       "      <td>-1.333802</td>\n",
       "      <td>0.672933</td>\n",
       "      <td>0.293184</td>\n",
       "    </tr>\n",
       "    <tr>\n",
       "      <th>42</th>\n",
       "      <td>-0.488491</td>\n",
       "      <td>-1.237407</td>\n",
       "      <td>1.118733</td>\n",
       "      <td>1.388623</td>\n",
       "      <td>0.379045</td>\n",
       "    </tr>\n",
       "    <tr>\n",
       "      <th>44</th>\n",
       "      <td>-0.397405</td>\n",
       "      <td>1.639132</td>\n",
       "      <td>1.189575</td>\n",
       "      <td>-0.800145</td>\n",
       "      <td>-0.138411</td>\n",
       "    </tr>\n",
       "    <tr>\n",
       "      <th>46</th>\n",
       "      <td>0.826696</td>\n",
       "      <td>0.771060</td>\n",
       "      <td>1.023852</td>\n",
       "      <td>-0.287955</td>\n",
       "      <td>0.912387</td>\n",
       "    </tr>\n",
       "    <tr>\n",
       "      <th>48</th>\n",
       "      <td>1.703388</td>\n",
       "      <td>-0.287519</td>\n",
       "      <td>-1.599308</td>\n",
       "      <td>-0.315359</td>\n",
       "      <td>-0.597822</td>\n",
       "    </tr>\n",
       "    <tr>\n",
       "      <th>50</th>\n",
       "      <td>-0.304704</td>\n",
       "      <td>-0.663664</td>\n",
       "      <td>-0.352073</td>\n",
       "      <td>0.970391</td>\n",
       "      <td>1.584237</td>\n",
       "    </tr>\n",
       "    <tr>\n",
       "      <th>52</th>\n",
       "      <td>-1.166120</td>\n",
       "      <td>-0.780222</td>\n",
       "      <td>-0.361176</td>\n",
       "      <td>0.516399</td>\n",
       "      <td>-0.706345</td>\n",
       "    </tr>\n",
       "    <tr>\n",
       "      <th>54</th>\n",
       "      <td>0.085205</td>\n",
       "      <td>-0.705041</td>\n",
       "      <td>-1.011847</td>\n",
       "      <td>1.557484</td>\n",
       "      <td>2.323059</td>\n",
       "    </tr>\n",
       "    <tr>\n",
       "      <th>56</th>\n",
       "      <td>0.054556</td>\n",
       "      <td>2.303626</td>\n",
       "      <td>0.633219</td>\n",
       "      <td>0.583612</td>\n",
       "      <td>-0.476984</td>\n",
       "    </tr>\n",
       "    <tr>\n",
       "      <th>58</th>\n",
       "      <td>-0.474798</td>\n",
       "      <td>0.187945</td>\n",
       "      <td>0.227878</td>\n",
       "      <td>-0.164927</td>\n",
       "      <td>-0.665986</td>\n",
       "    </tr>\n",
       "    <tr>\n",
       "      <th>...</th>\n",
       "      <td>...</td>\n",
       "      <td>...</td>\n",
       "      <td>...</td>\n",
       "      <td>...</td>\n",
       "      <td>...</td>\n",
       "    </tr>\n",
       "    <tr>\n",
       "      <th>940</th>\n",
       "      <td>1.080558</td>\n",
       "      <td>0.188931</td>\n",
       "      <td>-0.711538</td>\n",
       "      <td>-0.498640</td>\n",
       "      <td>-0.818399</td>\n",
       "    </tr>\n",
       "    <tr>\n",
       "      <th>942</th>\n",
       "      <td>0.097228</td>\n",
       "      <td>-0.728227</td>\n",
       "      <td>0.439400</td>\n",
       "      <td>-0.368389</td>\n",
       "      <td>0.729791</td>\n",
       "    </tr>\n",
       "    <tr>\n",
       "      <th>944</th>\n",
       "      <td>0.562038</td>\n",
       "      <td>2.268906</td>\n",
       "      <td>1.872199</td>\n",
       "      <td>0.360067</td>\n",
       "      <td>-0.412306</td>\n",
       "    </tr>\n",
       "    <tr>\n",
       "      <th>946</th>\n",
       "      <td>0.331728</td>\n",
       "      <td>1.886694</td>\n",
       "      <td>-1.085320</td>\n",
       "      <td>0.170212</td>\n",
       "      <td>0.812106</td>\n",
       "    </tr>\n",
       "    <tr>\n",
       "      <th>948</th>\n",
       "      <td>0.477188</td>\n",
       "      <td>1.054023</td>\n",
       "      <td>-0.359696</td>\n",
       "      <td>0.626787</td>\n",
       "      <td>0.827730</td>\n",
       "    </tr>\n",
       "    <tr>\n",
       "      <th>950</th>\n",
       "      <td>0.012670</td>\n",
       "      <td>0.224304</td>\n",
       "      <td>1.737803</td>\n",
       "      <td>-0.405972</td>\n",
       "      <td>-1.397581</td>\n",
       "    </tr>\n",
       "    <tr>\n",
       "      <th>952</th>\n",
       "      <td>0.382935</td>\n",
       "      <td>-0.696278</td>\n",
       "      <td>0.834741</td>\n",
       "      <td>-1.458529</td>\n",
       "      <td>0.737635</td>\n",
       "    </tr>\n",
       "    <tr>\n",
       "      <th>954</th>\n",
       "      <td>1.460700</td>\n",
       "      <td>1.377762</td>\n",
       "      <td>-0.566145</td>\n",
       "      <td>-2.220585</td>\n",
       "      <td>1.328468</td>\n",
       "    </tr>\n",
       "    <tr>\n",
       "      <th>956</th>\n",
       "      <td>-1.566022</td>\n",
       "      <td>-1.412812</td>\n",
       "      <td>0.479851</td>\n",
       "      <td>-2.018116</td>\n",
       "      <td>1.031233</td>\n",
       "    </tr>\n",
       "    <tr>\n",
       "      <th>958</th>\n",
       "      <td>2.929393</td>\n",
       "      <td>-2.066755</td>\n",
       "      <td>-1.548640</td>\n",
       "      <td>0.219261</td>\n",
       "      <td>0.232976</td>\n",
       "    </tr>\n",
       "    <tr>\n",
       "      <th>960</th>\n",
       "      <td>-1.087084</td>\n",
       "      <td>0.739396</td>\n",
       "      <td>0.250211</td>\n",
       "      <td>0.231946</td>\n",
       "      <td>-0.118782</td>\n",
       "    </tr>\n",
       "    <tr>\n",
       "      <th>962</th>\n",
       "      <td>1.979273</td>\n",
       "      <td>-0.493727</td>\n",
       "      <td>1.031646</td>\n",
       "      <td>-2.232598</td>\n",
       "      <td>-0.713894</td>\n",
       "    </tr>\n",
       "    <tr>\n",
       "      <th>964</th>\n",
       "      <td>0.049523</td>\n",
       "      <td>-0.933426</td>\n",
       "      <td>-0.467421</td>\n",
       "      <td>-0.810087</td>\n",
       "      <td>-0.628192</td>\n",
       "    </tr>\n",
       "    <tr>\n",
       "      <th>966</th>\n",
       "      <td>-0.701676</td>\n",
       "      <td>-1.270186</td>\n",
       "      <td>-0.587757</td>\n",
       "      <td>2.949604</td>\n",
       "      <td>-0.992562</td>\n",
       "    </tr>\n",
       "    <tr>\n",
       "      <th>968</th>\n",
       "      <td>0.366182</td>\n",
       "      <td>-1.856865</td>\n",
       "      <td>0.111513</td>\n",
       "      <td>-0.813705</td>\n",
       "      <td>-0.802593</td>\n",
       "    </tr>\n",
       "    <tr>\n",
       "      <th>970</th>\n",
       "      <td>0.856803</td>\n",
       "      <td>2.052093</td>\n",
       "      <td>-1.957485</td>\n",
       "      <td>0.773280</td>\n",
       "      <td>-0.023535</td>\n",
       "    </tr>\n",
       "    <tr>\n",
       "      <th>972</th>\n",
       "      <td>-1.851608</td>\n",
       "      <td>-0.651980</td>\n",
       "      <td>0.114543</td>\n",
       "      <td>-0.279546</td>\n",
       "      <td>-1.659781</td>\n",
       "    </tr>\n",
       "    <tr>\n",
       "      <th>974</th>\n",
       "      <td>0.594113</td>\n",
       "      <td>-1.266044</td>\n",
       "      <td>0.914428</td>\n",
       "      <td>-0.051966</td>\n",
       "      <td>-0.923558</td>\n",
       "    </tr>\n",
       "    <tr>\n",
       "      <th>976</th>\n",
       "      <td>0.330202</td>\n",
       "      <td>1.270329</td>\n",
       "      <td>-0.190807</td>\n",
       "      <td>-0.816553</td>\n",
       "      <td>0.143781</td>\n",
       "    </tr>\n",
       "    <tr>\n",
       "      <th>978</th>\n",
       "      <td>1.392900</td>\n",
       "      <td>-1.340062</td>\n",
       "      <td>0.437641</td>\n",
       "      <td>1.158305</td>\n",
       "      <td>1.865921</td>\n",
       "    </tr>\n",
       "    <tr>\n",
       "      <th>980</th>\n",
       "      <td>0.177597</td>\n",
       "      <td>-1.208934</td>\n",
       "      <td>0.286461</td>\n",
       "      <td>-1.135924</td>\n",
       "      <td>-0.613996</td>\n",
       "    </tr>\n",
       "    <tr>\n",
       "      <th>982</th>\n",
       "      <td>-0.712701</td>\n",
       "      <td>-0.845475</td>\n",
       "      <td>-1.817984</td>\n",
       "      <td>1.731434</td>\n",
       "      <td>-1.235787</td>\n",
       "    </tr>\n",
       "    <tr>\n",
       "      <th>984</th>\n",
       "      <td>-0.888449</td>\n",
       "      <td>-0.105162</td>\n",
       "      <td>-0.301062</td>\n",
       "      <td>0.061917</td>\n",
       "      <td>-0.693589</td>\n",
       "    </tr>\n",
       "    <tr>\n",
       "      <th>986</th>\n",
       "      <td>-0.412910</td>\n",
       "      <td>-0.716914</td>\n",
       "      <td>1.869780</td>\n",
       "      <td>-0.608627</td>\n",
       "      <td>0.084801</td>\n",
       "    </tr>\n",
       "    <tr>\n",
       "      <th>988</th>\n",
       "      <td>-0.960939</td>\n",
       "      <td>-0.140023</td>\n",
       "      <td>0.252932</td>\n",
       "      <td>-0.659422</td>\n",
       "      <td>1.288284</td>\n",
       "    </tr>\n",
       "    <tr>\n",
       "      <th>990</th>\n",
       "      <td>-1.659442</td>\n",
       "      <td>-1.007350</td>\n",
       "      <td>0.447864</td>\n",
       "      <td>0.595908</td>\n",
       "      <td>1.423300</td>\n",
       "    </tr>\n",
       "    <tr>\n",
       "      <th>992</th>\n",
       "      <td>-0.208778</td>\n",
       "      <td>-0.371880</td>\n",
       "      <td>-0.591022</td>\n",
       "      <td>-0.954291</td>\n",
       "      <td>1.572130</td>\n",
       "    </tr>\n",
       "    <tr>\n",
       "      <th>994</th>\n",
       "      <td>0.936125</td>\n",
       "      <td>-0.086540</td>\n",
       "      <td>1.091334</td>\n",
       "      <td>0.694521</td>\n",
       "      <td>-0.290248</td>\n",
       "    </tr>\n",
       "    <tr>\n",
       "      <th>996</th>\n",
       "      <td>0.272442</td>\n",
       "      <td>0.241111</td>\n",
       "      <td>-0.348401</td>\n",
       "      <td>-2.006582</td>\n",
       "      <td>-2.541812</td>\n",
       "    </tr>\n",
       "    <tr>\n",
       "      <th>998</th>\n",
       "      <td>1.059748</td>\n",
       "      <td>-1.201869</td>\n",
       "      <td>0.914760</td>\n",
       "      <td>-0.297354</td>\n",
       "      <td>0.123690</td>\n",
       "    </tr>\n",
       "  </tbody>\n",
       "</table>\n",
       "<p>500 rows × 5 columns</p>\n",
       "</div>"
      ],
      "text/plain": [
       "            a         b         c         d         e\n",
       "0   -0.485911  0.296308  0.364474  0.298963 -0.313502\n",
       "2   -0.719638  0.233920 -1.059725 -0.133826 -0.601983\n",
       "4   -0.317644  0.513591 -1.072588  0.281225 -0.238236\n",
       "6   -0.274450  2.332755  0.753673 -2.009803  0.570811\n",
       "8    1.598870  0.501388 -1.072569 -1.851330  0.443952\n",
       "10   1.040736  0.192141 -2.036213  1.201515 -0.060761\n",
       "12   0.499312  1.266685 -1.241248  0.055114 -0.293116\n",
       "14   0.355664  1.246046  0.616459 -1.094179  1.224177\n",
       "16  -0.203017  0.937745  1.176213 -1.002390 -0.677946\n",
       "18  -1.430301 -0.348723  0.443796  1.706298  1.592944\n",
       "20  -0.393250  1.097041  1.077162 -0.199511  0.251831\n",
       "22  -0.413857 -0.898553 -2.210917 -1.467530  0.890111\n",
       "24  -0.658516 -0.129804  0.343106  1.740000  2.419670\n",
       "26  -1.746391  1.035948 -0.595932 -1.283674  0.233364\n",
       "28  -0.996674 -1.133378 -1.230087 -0.216951  0.300600\n",
       "30   1.128698  1.602030 -1.018163 -2.107193 -0.083814\n",
       "32   0.790773 -2.085629  0.697222  0.112826 -1.089289\n",
       "34   0.118227 -1.538702 -1.211994  0.247911 -0.298539\n",
       "36  -0.173523  1.996579  0.002578  0.644535 -0.514210\n",
       "38   1.649907 -1.582651  0.431384  0.305880  0.802210\n",
       "40  -0.707301  2.112051 -1.333802  0.672933  0.293184\n",
       "42  -0.488491 -1.237407  1.118733  1.388623  0.379045\n",
       "44  -0.397405  1.639132  1.189575 -0.800145 -0.138411\n",
       "46   0.826696  0.771060  1.023852 -0.287955  0.912387\n",
       "48   1.703388 -0.287519 -1.599308 -0.315359 -0.597822\n",
       "50  -0.304704 -0.663664 -0.352073  0.970391  1.584237\n",
       "52  -1.166120 -0.780222 -0.361176  0.516399 -0.706345\n",
       "54   0.085205 -0.705041 -1.011847  1.557484  2.323059\n",
       "56   0.054556  2.303626  0.633219  0.583612 -0.476984\n",
       "58  -0.474798  0.187945  0.227878 -0.164927 -0.665986\n",
       "..        ...       ...       ...       ...       ...\n",
       "940  1.080558  0.188931 -0.711538 -0.498640 -0.818399\n",
       "942  0.097228 -0.728227  0.439400 -0.368389  0.729791\n",
       "944  0.562038  2.268906  1.872199  0.360067 -0.412306\n",
       "946  0.331728  1.886694 -1.085320  0.170212  0.812106\n",
       "948  0.477188  1.054023 -0.359696  0.626787  0.827730\n",
       "950  0.012670  0.224304  1.737803 -0.405972 -1.397581\n",
       "952  0.382935 -0.696278  0.834741 -1.458529  0.737635\n",
       "954  1.460700  1.377762 -0.566145 -2.220585  1.328468\n",
       "956 -1.566022 -1.412812  0.479851 -2.018116  1.031233\n",
       "958  2.929393 -2.066755 -1.548640  0.219261  0.232976\n",
       "960 -1.087084  0.739396  0.250211  0.231946 -0.118782\n",
       "962  1.979273 -0.493727  1.031646 -2.232598 -0.713894\n",
       "964  0.049523 -0.933426 -0.467421 -0.810087 -0.628192\n",
       "966 -0.701676 -1.270186 -0.587757  2.949604 -0.992562\n",
       "968  0.366182 -1.856865  0.111513 -0.813705 -0.802593\n",
       "970  0.856803  2.052093 -1.957485  0.773280 -0.023535\n",
       "972 -1.851608 -0.651980  0.114543 -0.279546 -1.659781\n",
       "974  0.594113 -1.266044  0.914428 -0.051966 -0.923558\n",
       "976  0.330202  1.270329 -0.190807 -0.816553  0.143781\n",
       "978  1.392900 -1.340062  0.437641  1.158305  1.865921\n",
       "980  0.177597 -1.208934  0.286461 -1.135924 -0.613996\n",
       "982 -0.712701 -0.845475 -1.817984  1.731434 -1.235787\n",
       "984 -0.888449 -0.105162 -0.301062  0.061917 -0.693589\n",
       "986 -0.412910 -0.716914  1.869780 -0.608627  0.084801\n",
       "988 -0.960939 -0.140023  0.252932 -0.659422  1.288284\n",
       "990 -1.659442 -1.007350  0.447864  0.595908  1.423300\n",
       "992 -0.208778 -0.371880 -0.591022 -0.954291  1.572130\n",
       "994  0.936125 -0.086540  1.091334  0.694521 -0.290248\n",
       "996  0.272442  0.241111 -0.348401 -2.006582 -2.541812\n",
       "998  1.059748 -1.201869  0.914760 -0.297354  0.123690\n",
       "\n",
       "[500 rows x 5 columns]"
      ]
     },
     "execution_count": 37,
     "metadata": {},
     "output_type": "execute_result"
    }
   ],
   "source": [
    "frame.ix[::2]"
   ]
  },
  {
   "cell_type": "code",
   "execution_count": 38,
   "metadata": {
    "collapsed": false
   },
   "outputs": [
    {
     "name": "stdout",
     "output_type": "stream",
     "text": [
      "0   -1.403399\n",
      "1   -0.523392\n",
      "2   -0.564194\n",
      "3   -1.448465\n",
      "4   -0.712755\n",
      "dtype: float64\n"
     ]
    }
   ],
   "source": [
    "s1 = pd.Series(np.random.randn(5))\n",
    "print s1"
   ]
  },
  {
   "cell_type": "code",
   "execution_count": 39,
   "metadata": {
    "collapsed": false
   },
   "outputs": [
    {
     "data": {
      "text/plain": [
       "(3, 1)"
      ]
     },
     "execution_count": 39,
     "metadata": {},
     "output_type": "execute_result"
    }
   ],
   "source": [
    "s1.idxmin(), s1.idxmax()"
   ]
  },
  {
   "cell_type": "code",
   "execution_count": 40,
   "metadata": {
    "collapsed": false
   },
   "outputs": [],
   "source": [
    "df1 = pd.DataFrame(np.random.randn(5, 3), columns=list('ABC'))"
   ]
  },
  {
   "cell_type": "code",
   "execution_count": 41,
   "metadata": {
    "collapsed": false
   },
   "outputs": [
    {
     "data": {
      "text/html": [
       "<div>\n",
       "<table border=\"1\" class=\"dataframe\">\n",
       "  <thead>\n",
       "    <tr style=\"text-align: right;\">\n",
       "      <th></th>\n",
       "      <th>A</th>\n",
       "      <th>B</th>\n",
       "      <th>C</th>\n",
       "    </tr>\n",
       "  </thead>\n",
       "  <tbody>\n",
       "    <tr>\n",
       "      <th>0</th>\n",
       "      <td>1.047617</td>\n",
       "      <td>-1.266630</td>\n",
       "      <td>0.196679</td>\n",
       "    </tr>\n",
       "    <tr>\n",
       "      <th>1</th>\n",
       "      <td>-0.432576</td>\n",
       "      <td>0.400291</td>\n",
       "      <td>-0.450064</td>\n",
       "    </tr>\n",
       "    <tr>\n",
       "      <th>2</th>\n",
       "      <td>1.111101</td>\n",
       "      <td>-0.186179</td>\n",
       "      <td>0.639435</td>\n",
       "    </tr>\n",
       "    <tr>\n",
       "      <th>3</th>\n",
       "      <td>-0.348517</td>\n",
       "      <td>1.075023</td>\n",
       "      <td>0.145951</td>\n",
       "    </tr>\n",
       "    <tr>\n",
       "      <th>4</th>\n",
       "      <td>-0.362328</td>\n",
       "      <td>0.741484</td>\n",
       "      <td>-1.094782</td>\n",
       "    </tr>\n",
       "  </tbody>\n",
       "</table>\n",
       "</div>"
      ],
      "text/plain": [
       "          A         B         C\n",
       "0  1.047617 -1.266630  0.196679\n",
       "1 -0.432576  0.400291 -0.450064\n",
       "2  1.111101 -0.186179  0.639435\n",
       "3 -0.348517  1.075023  0.145951\n",
       "4 -0.362328  0.741484 -1.094782"
      ]
     },
     "execution_count": 41,
     "metadata": {},
     "output_type": "execute_result"
    }
   ],
   "source": [
    "df1"
   ]
  },
  {
   "cell_type": "code",
   "execution_count": 42,
   "metadata": {
    "collapsed": false
   },
   "outputs": [
    {
     "data": {
      "text/plain": [
       "A    1\n",
       "B    0\n",
       "C    4\n",
       "dtype: int64"
      ]
     },
     "execution_count": 42,
     "metadata": {},
     "output_type": "execute_result"
    }
   ],
   "source": [
    "df1.idxmin(axis=0)"
   ]
  },
  {
   "cell_type": "code",
   "execution_count": 43,
   "metadata": {
    "collapsed": false
   },
   "outputs": [
    {
     "data": {
      "text/plain": [
       "0    A\n",
       "1    B\n",
       "2    A\n",
       "3    B\n",
       "4    B\n",
       "dtype: object"
      ]
     },
     "execution_count": 43,
     "metadata": {},
     "output_type": "execute_result"
    }
   ],
   "source": [
    "df1.idxmax(axis=1)"
   ]
  },
  {
   "cell_type": "code",
   "execution_count": 44,
   "metadata": {
    "collapsed": false
   },
   "outputs": [
    {
     "data": {
      "text/plain": [
       "array([1, 6, 1, 6, 3, 1, 6, 3, 2, 2, 5, 2, 4, 3, 4, 4, 1, 0, 0, 1, 1, 5, 4,\n",
       "       5, 4, 2, 5, 6, 1, 0, 6, 4, 1, 2, 3, 4, 3, 6, 6, 0, 4, 6, 0, 4, 3, 3,\n",
       "       4, 5, 4, 4])"
      ]
     },
     "execution_count": 44,
     "metadata": {},
     "output_type": "execute_result"
    }
   ],
   "source": [
    "data = np.random.randint(0,7, size=50)\n",
    "data"
   ]
  },
  {
   "cell_type": "code",
   "execution_count": 45,
   "metadata": {
    "collapsed": false
   },
   "outputs": [
    {
     "name": "stdout",
     "output_type": "stream",
     "text": [
      "0     1\n",
      "1     6\n",
      "2     1\n",
      "3     6\n",
      "4     3\n",
      "5     1\n",
      "6     6\n",
      "7     3\n",
      "8     2\n",
      "9     2\n",
      "10    5\n",
      "11    2\n",
      "12    4\n",
      "13    3\n",
      "14    4\n",
      "15    4\n",
      "16    1\n",
      "17    0\n",
      "18    0\n",
      "19    1\n",
      "20    1\n",
      "21    5\n",
      "22    4\n",
      "23    5\n",
      "24    4\n",
      "25    2\n",
      "26    5\n",
      "27    6\n",
      "28    1\n",
      "29    0\n",
      "30    6\n",
      "31    4\n",
      "32    1\n",
      "33    2\n",
      "34    3\n",
      "35    4\n",
      "36    3\n",
      "37    6\n",
      "38    6\n",
      "39    0\n",
      "40    4\n",
      "41    6\n",
      "42    0\n",
      "43    4\n",
      "44    3\n",
      "45    3\n",
      "46    4\n",
      "47    5\n",
      "48    4\n",
      "49    4\n",
      "dtype: int32\n"
     ]
    }
   ],
   "source": [
    "s = pd.Series(data)\n",
    "print s"
   ]
  },
  {
   "cell_type": "code",
   "execution_count": 46,
   "metadata": {
    "collapsed": false
   },
   "outputs": [
    {
     "data": {
      "text/plain": [
       "4    12\n",
       "6     8\n",
       "1     8\n",
       "3     7\n",
       "5     5\n",
       "2     5\n",
       "0     5\n",
       "dtype: int64"
      ]
     },
     "execution_count": 46,
     "metadata": {},
     "output_type": "execute_result"
    }
   ],
   "source": [
    "s.value_counts()"
   ]
  },
  {
   "cell_type": "code",
   "execution_count": 47,
   "metadata": {
    "collapsed": false
   },
   "outputs": [
    {
     "data": {
      "text/html": [
       "<div>\n",
       "<table border=\"1\" class=\"dataframe\">\n",
       "  <thead>\n",
       "    <tr style=\"text-align: right;\">\n",
       "      <th></th>\n",
       "      <th>one</th>\n",
       "      <th>three</th>\n",
       "      <th>two</th>\n",
       "    </tr>\n",
       "  </thead>\n",
       "  <tbody>\n",
       "    <tr>\n",
       "      <th>a</th>\n",
       "      <td>0.577716</td>\n",
       "      <td>NaN</td>\n",
       "      <td>-0.103012</td>\n",
       "    </tr>\n",
       "    <tr>\n",
       "      <th>b</th>\n",
       "      <td>-0.958164</td>\n",
       "      <td>-1.484507</td>\n",
       "      <td>-0.382895</td>\n",
       "    </tr>\n",
       "    <tr>\n",
       "      <th>c</th>\n",
       "      <td>-0.358257</td>\n",
       "      <td>-0.105039</td>\n",
       "      <td>0.682108</td>\n",
       "    </tr>\n",
       "    <tr>\n",
       "      <th>d</th>\n",
       "      <td>NaN</td>\n",
       "      <td>-0.168444</td>\n",
       "      <td>-0.311164</td>\n",
       "    </tr>\n",
       "  </tbody>\n",
       "</table>\n",
       "</div>"
      ],
      "text/plain": [
       "        one     three       two\n",
       "a  0.577716       NaN -0.103012\n",
       "b -0.958164 -1.484507 -0.382895\n",
       "c -0.358257 -0.105039  0.682108\n",
       "d       NaN -0.168444 -0.311164"
      ]
     },
     "execution_count": 47,
     "metadata": {},
     "output_type": "execute_result"
    }
   ],
   "source": [
    "df"
   ]
  },
  {
   "cell_type": "code",
   "execution_count": 48,
   "metadata": {
    "collapsed": false
   },
   "outputs": [
    {
     "data": {
      "text/plain": [
       "one     -0.246235\n",
       "three   -0.585997\n",
       "two     -0.028741\n",
       "dtype: float64"
      ]
     },
     "execution_count": 48,
     "metadata": {},
     "output_type": "execute_result"
    }
   ],
   "source": [
    "df.apply(np.mean)"
   ]
  },
  {
   "cell_type": "code",
   "execution_count": 49,
   "metadata": {
    "collapsed": false
   },
   "outputs": [
    {
     "data": {
      "text/plain": [
       "a    0.237352\n",
       "b   -0.941856\n",
       "c    0.072937\n",
       "d   -0.239804\n",
       "dtype: float64"
      ]
     },
     "execution_count": 49,
     "metadata": {},
     "output_type": "execute_result"
    }
   ],
   "source": [
    "df.apply(np.mean, axis=1)"
   ]
  },
  {
   "cell_type": "code",
   "execution_count": 50,
   "metadata": {
    "collapsed": false
   },
   "outputs": [
    {
     "data": {
      "text/plain": [
       "one      1.535880\n",
       "three    1.379468\n",
       "two      1.065003\n",
       "dtype: float64"
      ]
     },
     "execution_count": 50,
     "metadata": {},
     "output_type": "execute_result"
    }
   ],
   "source": [
    "df.apply(lambda x:x.max() - x.min())"
   ]
  },
  {
   "cell_type": "code",
   "execution_count": 51,
   "metadata": {
    "collapsed": false
   },
   "outputs": [
    {
     "data": {
      "text/html": [
       "<div>\n",
       "<table border=\"1\" class=\"dataframe\">\n",
       "  <thead>\n",
       "    <tr style=\"text-align: right;\">\n",
       "      <th></th>\n",
       "      <th>one</th>\n",
       "      <th>three</th>\n",
       "      <th>two</th>\n",
       "    </tr>\n",
       "  </thead>\n",
       "  <tbody>\n",
       "    <tr>\n",
       "      <th>a</th>\n",
       "      <td>0.577716</td>\n",
       "      <td>NaN</td>\n",
       "      <td>-0.103012</td>\n",
       "    </tr>\n",
       "    <tr>\n",
       "      <th>b</th>\n",
       "      <td>-0.380448</td>\n",
       "      <td>-1.484507</td>\n",
       "      <td>-0.485908</td>\n",
       "    </tr>\n",
       "    <tr>\n",
       "      <th>c</th>\n",
       "      <td>-0.738705</td>\n",
       "      <td>-1.589547</td>\n",
       "      <td>0.196200</td>\n",
       "    </tr>\n",
       "    <tr>\n",
       "      <th>d</th>\n",
       "      <td>NaN</td>\n",
       "      <td>-1.757991</td>\n",
       "      <td>-0.114964</td>\n",
       "    </tr>\n",
       "  </tbody>\n",
       "</table>\n",
       "</div>"
      ],
      "text/plain": [
       "        one     three       two\n",
       "a  0.577716       NaN -0.103012\n",
       "b -0.380448 -1.484507 -0.485908\n",
       "c -0.738705 -1.589547  0.196200\n",
       "d       NaN -1.757991 -0.114964"
      ]
     },
     "execution_count": 51,
     "metadata": {},
     "output_type": "execute_result"
    }
   ],
   "source": [
    "df.apply(np.cumsum)"
   ]
  },
  {
   "cell_type": "code",
   "execution_count": 54,
   "metadata": {
    "collapsed": false
   },
   "outputs": [
    {
     "data": {
      "text/html": [
       "<div>\n",
       "<table border=\"1\" class=\"dataframe\">\n",
       "  <thead>\n",
       "    <tr style=\"text-align: right;\">\n",
       "      <th></th>\n",
       "      <th>A</th>\n",
       "      <th>B</th>\n",
       "      <th>C</th>\n",
       "    </tr>\n",
       "  </thead>\n",
       "  <tbody>\n",
       "    <tr>\n",
       "      <th>2000-01-01</th>\n",
       "      <td>-1.913481</td>\n",
       "      <td>0.715990</td>\n",
       "      <td>-0.655609</td>\n",
       "    </tr>\n",
       "    <tr>\n",
       "      <th>2000-01-02</th>\n",
       "      <td>0.216844</td>\n",
       "      <td>0.265258</td>\n",
       "      <td>0.112409</td>\n",
       "    </tr>\n",
       "    <tr>\n",
       "      <th>2000-01-03</th>\n",
       "      <td>1.487179</td>\n",
       "      <td>0.642876</td>\n",
       "      <td>-0.389356</td>\n",
       "    </tr>\n",
       "    <tr>\n",
       "      <th>2000-01-04</th>\n",
       "      <td>-0.293519</td>\n",
       "      <td>-1.527745</td>\n",
       "      <td>-1.814227</td>\n",
       "    </tr>\n",
       "    <tr>\n",
       "      <th>2000-01-05</th>\n",
       "      <td>1.478865</td>\n",
       "      <td>0.354110</td>\n",
       "      <td>-1.422856</td>\n",
       "    </tr>\n",
       "    <tr>\n",
       "      <th>2000-01-06</th>\n",
       "      <td>0.633830</td>\n",
       "      <td>-1.937531</td>\n",
       "      <td>0.308995</td>\n",
       "    </tr>\n",
       "    <tr>\n",
       "      <th>2000-01-07</th>\n",
       "      <td>-1.728712</td>\n",
       "      <td>1.179697</td>\n",
       "      <td>1.141785</td>\n",
       "    </tr>\n",
       "    <tr>\n",
       "      <th>2000-01-08</th>\n",
       "      <td>0.475459</td>\n",
       "      <td>0.267539</td>\n",
       "      <td>-0.628681</td>\n",
       "    </tr>\n",
       "    <tr>\n",
       "      <th>2000-01-09</th>\n",
       "      <td>-1.338115</td>\n",
       "      <td>0.448127</td>\n",
       "      <td>-0.105140</td>\n",
       "    </tr>\n",
       "    <tr>\n",
       "      <th>2000-01-10</th>\n",
       "      <td>1.972683</td>\n",
       "      <td>1.149556</td>\n",
       "      <td>2.435331</td>\n",
       "    </tr>\n",
       "    <tr>\n",
       "      <th>2000-01-11</th>\n",
       "      <td>-1.243429</td>\n",
       "      <td>0.673061</td>\n",
       "      <td>-0.107976</td>\n",
       "    </tr>\n",
       "    <tr>\n",
       "      <th>2000-01-12</th>\n",
       "      <td>0.132649</td>\n",
       "      <td>0.487604</td>\n",
       "      <td>0.399501</td>\n",
       "    </tr>\n",
       "    <tr>\n",
       "      <th>2000-01-13</th>\n",
       "      <td>0.410841</td>\n",
       "      <td>1.289564</td>\n",
       "      <td>-0.872635</td>\n",
       "    </tr>\n",
       "    <tr>\n",
       "      <th>2000-01-14</th>\n",
       "      <td>0.276675</td>\n",
       "      <td>-0.012642</td>\n",
       "      <td>-1.966060</td>\n",
       "    </tr>\n",
       "    <tr>\n",
       "      <th>2000-01-15</th>\n",
       "      <td>-0.322628</td>\n",
       "      <td>0.286527</td>\n",
       "      <td>-0.869416</td>\n",
       "    </tr>\n",
       "    <tr>\n",
       "      <th>2000-01-16</th>\n",
       "      <td>0.004210</td>\n",
       "      <td>1.544064</td>\n",
       "      <td>1.179161</td>\n",
       "    </tr>\n",
       "    <tr>\n",
       "      <th>2000-01-17</th>\n",
       "      <td>0.605741</td>\n",
       "      <td>-0.439623</td>\n",
       "      <td>1.822367</td>\n",
       "    </tr>\n",
       "    <tr>\n",
       "      <th>2000-01-18</th>\n",
       "      <td>-1.291645</td>\n",
       "      <td>0.856846</td>\n",
       "      <td>0.686662</td>\n",
       "    </tr>\n",
       "    <tr>\n",
       "      <th>2000-01-19</th>\n",
       "      <td>-0.248882</td>\n",
       "      <td>0.672689</td>\n",
       "      <td>0.679824</td>\n",
       "    </tr>\n",
       "    <tr>\n",
       "      <th>2000-01-20</th>\n",
       "      <td>0.334251</td>\n",
       "      <td>-0.777615</td>\n",
       "      <td>1.229762</td>\n",
       "    </tr>\n",
       "    <tr>\n",
       "      <th>2000-01-21</th>\n",
       "      <td>-0.503280</td>\n",
       "      <td>-1.176333</td>\n",
       "      <td>1.090830</td>\n",
       "    </tr>\n",
       "    <tr>\n",
       "      <th>2000-01-22</th>\n",
       "      <td>-1.661229</td>\n",
       "      <td>-2.190703</td>\n",
       "      <td>-0.290638</td>\n",
       "    </tr>\n",
       "    <tr>\n",
       "      <th>2000-01-23</th>\n",
       "      <td>-0.247337</td>\n",
       "      <td>-0.164281</td>\n",
       "      <td>0.896781</td>\n",
       "    </tr>\n",
       "    <tr>\n",
       "      <th>2000-01-24</th>\n",
       "      <td>-2.214667</td>\n",
       "      <td>-1.546094</td>\n",
       "      <td>1.840164</td>\n",
       "    </tr>\n",
       "    <tr>\n",
       "      <th>2000-01-25</th>\n",
       "      <td>-0.153781</td>\n",
       "      <td>0.714453</td>\n",
       "      <td>-1.523802</td>\n",
       "    </tr>\n",
       "    <tr>\n",
       "      <th>2000-01-26</th>\n",
       "      <td>-1.362699</td>\n",
       "      <td>-0.586177</td>\n",
       "      <td>0.959875</td>\n",
       "    </tr>\n",
       "    <tr>\n",
       "      <th>2000-01-27</th>\n",
       "      <td>-0.278248</td>\n",
       "      <td>-0.123480</td>\n",
       "      <td>0.066145</td>\n",
       "    </tr>\n",
       "    <tr>\n",
       "      <th>2000-01-28</th>\n",
       "      <td>1.488718</td>\n",
       "      <td>1.145713</td>\n",
       "      <td>-0.032187</td>\n",
       "    </tr>\n",
       "    <tr>\n",
       "      <th>2000-01-29</th>\n",
       "      <td>-0.512630</td>\n",
       "      <td>-0.035212</td>\n",
       "      <td>-0.927779</td>\n",
       "    </tr>\n",
       "    <tr>\n",
       "      <th>2000-01-30</th>\n",
       "      <td>2.136808</td>\n",
       "      <td>0.984133</td>\n",
       "      <td>-2.719330</td>\n",
       "    </tr>\n",
       "    <tr>\n",
       "      <th>...</th>\n",
       "      <td>...</td>\n",
       "      <td>...</td>\n",
       "      <td>...</td>\n",
       "    </tr>\n",
       "    <tr>\n",
       "      <th>2002-08-28</th>\n",
       "      <td>0.705771</td>\n",
       "      <td>0.391731</td>\n",
       "      <td>-0.908639</td>\n",
       "    </tr>\n",
       "    <tr>\n",
       "      <th>2002-08-29</th>\n",
       "      <td>-0.203038</td>\n",
       "      <td>0.539428</td>\n",
       "      <td>-0.246026</td>\n",
       "    </tr>\n",
       "    <tr>\n",
       "      <th>2002-08-30</th>\n",
       "      <td>0.668870</td>\n",
       "      <td>0.861511</td>\n",
       "      <td>0.129058</td>\n",
       "    </tr>\n",
       "    <tr>\n",
       "      <th>2002-08-31</th>\n",
       "      <td>-0.868345</td>\n",
       "      <td>0.726837</td>\n",
       "      <td>0.607707</td>\n",
       "    </tr>\n",
       "    <tr>\n",
       "      <th>2002-09-01</th>\n",
       "      <td>1.442048</td>\n",
       "      <td>-2.723047</td>\n",
       "      <td>-1.801504</td>\n",
       "    </tr>\n",
       "    <tr>\n",
       "      <th>2002-09-02</th>\n",
       "      <td>-0.395605</td>\n",
       "      <td>-0.760295</td>\n",
       "      <td>0.885788</td>\n",
       "    </tr>\n",
       "    <tr>\n",
       "      <th>2002-09-03</th>\n",
       "      <td>0.020136</td>\n",
       "      <td>0.833953</td>\n",
       "      <td>-0.960003</td>\n",
       "    </tr>\n",
       "    <tr>\n",
       "      <th>2002-09-04</th>\n",
       "      <td>-0.202290</td>\n",
       "      <td>-0.299152</td>\n",
       "      <td>-2.095714</td>\n",
       "    </tr>\n",
       "    <tr>\n",
       "      <th>2002-09-05</th>\n",
       "      <td>-0.183144</td>\n",
       "      <td>0.784763</td>\n",
       "      <td>-0.719783</td>\n",
       "    </tr>\n",
       "    <tr>\n",
       "      <th>2002-09-06</th>\n",
       "      <td>0.295314</td>\n",
       "      <td>0.163483</td>\n",
       "      <td>-0.435157</td>\n",
       "    </tr>\n",
       "    <tr>\n",
       "      <th>2002-09-07</th>\n",
       "      <td>0.568629</td>\n",
       "      <td>-0.483656</td>\n",
       "      <td>-1.344631</td>\n",
       "    </tr>\n",
       "    <tr>\n",
       "      <th>2002-09-08</th>\n",
       "      <td>-0.952746</td>\n",
       "      <td>-1.334189</td>\n",
       "      <td>0.041991</td>\n",
       "    </tr>\n",
       "    <tr>\n",
       "      <th>2002-09-09</th>\n",
       "      <td>0.071729</td>\n",
       "      <td>2.736541</td>\n",
       "      <td>-0.780913</td>\n",
       "    </tr>\n",
       "    <tr>\n",
       "      <th>2002-09-10</th>\n",
       "      <td>0.251536</td>\n",
       "      <td>-0.261050</td>\n",
       "      <td>0.102809</td>\n",
       "    </tr>\n",
       "    <tr>\n",
       "      <th>2002-09-11</th>\n",
       "      <td>-0.260607</td>\n",
       "      <td>-0.590570</td>\n",
       "      <td>-1.666910</td>\n",
       "    </tr>\n",
       "    <tr>\n",
       "      <th>2002-09-12</th>\n",
       "      <td>0.583793</td>\n",
       "      <td>1.040068</td>\n",
       "      <td>0.061788</td>\n",
       "    </tr>\n",
       "    <tr>\n",
       "      <th>2002-09-13</th>\n",
       "      <td>1.075656</td>\n",
       "      <td>-0.510035</td>\n",
       "      <td>0.016521</td>\n",
       "    </tr>\n",
       "    <tr>\n",
       "      <th>2002-09-14</th>\n",
       "      <td>-0.099780</td>\n",
       "      <td>2.761861</td>\n",
       "      <td>1.478063</td>\n",
       "    </tr>\n",
       "    <tr>\n",
       "      <th>2002-09-15</th>\n",
       "      <td>1.226383</td>\n",
       "      <td>-1.670101</td>\n",
       "      <td>1.222257</td>\n",
       "    </tr>\n",
       "    <tr>\n",
       "      <th>2002-09-16</th>\n",
       "      <td>1.543714</td>\n",
       "      <td>-0.765843</td>\n",
       "      <td>-0.584029</td>\n",
       "    </tr>\n",
       "    <tr>\n",
       "      <th>2002-09-17</th>\n",
       "      <td>1.080449</td>\n",
       "      <td>0.395607</td>\n",
       "      <td>-0.966395</td>\n",
       "    </tr>\n",
       "    <tr>\n",
       "      <th>2002-09-18</th>\n",
       "      <td>1.731626</td>\n",
       "      <td>0.545142</td>\n",
       "      <td>0.278215</td>\n",
       "    </tr>\n",
       "    <tr>\n",
       "      <th>2002-09-19</th>\n",
       "      <td>1.369867</td>\n",
       "      <td>1.907194</td>\n",
       "      <td>-1.068670</td>\n",
       "    </tr>\n",
       "    <tr>\n",
       "      <th>2002-09-20</th>\n",
       "      <td>0.163890</td>\n",
       "      <td>-0.391252</td>\n",
       "      <td>-0.240951</td>\n",
       "    </tr>\n",
       "    <tr>\n",
       "      <th>2002-09-21</th>\n",
       "      <td>1.826174</td>\n",
       "      <td>0.178923</td>\n",
       "      <td>-1.206591</td>\n",
       "    </tr>\n",
       "    <tr>\n",
       "      <th>2002-09-22</th>\n",
       "      <td>0.866565</td>\n",
       "      <td>-0.947990</td>\n",
       "      <td>1.090342</td>\n",
       "    </tr>\n",
       "    <tr>\n",
       "      <th>2002-09-23</th>\n",
       "      <td>0.159897</td>\n",
       "      <td>0.361642</td>\n",
       "      <td>0.262545</td>\n",
       "    </tr>\n",
       "    <tr>\n",
       "      <th>2002-09-24</th>\n",
       "      <td>1.101539</td>\n",
       "      <td>-0.380934</td>\n",
       "      <td>1.959826</td>\n",
       "    </tr>\n",
       "    <tr>\n",
       "      <th>2002-09-25</th>\n",
       "      <td>-0.520893</td>\n",
       "      <td>-0.061114</td>\n",
       "      <td>-1.486322</td>\n",
       "    </tr>\n",
       "    <tr>\n",
       "      <th>2002-09-26</th>\n",
       "      <td>1.478825</td>\n",
       "      <td>-0.442110</td>\n",
       "      <td>0.683418</td>\n",
       "    </tr>\n",
       "  </tbody>\n",
       "</table>\n",
       "<p>1000 rows × 3 columns</p>\n",
       "</div>"
      ],
      "text/plain": [
       "                   A         B         C\n",
       "2000-01-01 -1.913481  0.715990 -0.655609\n",
       "2000-01-02  0.216844  0.265258  0.112409\n",
       "2000-01-03  1.487179  0.642876 -0.389356\n",
       "2000-01-04 -0.293519 -1.527745 -1.814227\n",
       "2000-01-05  1.478865  0.354110 -1.422856\n",
       "2000-01-06  0.633830 -1.937531  0.308995\n",
       "2000-01-07 -1.728712  1.179697  1.141785\n",
       "2000-01-08  0.475459  0.267539 -0.628681\n",
       "2000-01-09 -1.338115  0.448127 -0.105140\n",
       "2000-01-10  1.972683  1.149556  2.435331\n",
       "2000-01-11 -1.243429  0.673061 -0.107976\n",
       "2000-01-12  0.132649  0.487604  0.399501\n",
       "2000-01-13  0.410841  1.289564 -0.872635\n",
       "2000-01-14  0.276675 -0.012642 -1.966060\n",
       "2000-01-15 -0.322628  0.286527 -0.869416\n",
       "2000-01-16  0.004210  1.544064  1.179161\n",
       "2000-01-17  0.605741 -0.439623  1.822367\n",
       "2000-01-18 -1.291645  0.856846  0.686662\n",
       "2000-01-19 -0.248882  0.672689  0.679824\n",
       "2000-01-20  0.334251 -0.777615  1.229762\n",
       "2000-01-21 -0.503280 -1.176333  1.090830\n",
       "2000-01-22 -1.661229 -2.190703 -0.290638\n",
       "2000-01-23 -0.247337 -0.164281  0.896781\n",
       "2000-01-24 -2.214667 -1.546094  1.840164\n",
       "2000-01-25 -0.153781  0.714453 -1.523802\n",
       "2000-01-26 -1.362699 -0.586177  0.959875\n",
       "2000-01-27 -0.278248 -0.123480  0.066145\n",
       "2000-01-28  1.488718  1.145713 -0.032187\n",
       "2000-01-29 -0.512630 -0.035212 -0.927779\n",
       "2000-01-30  2.136808  0.984133 -2.719330\n",
       "...              ...       ...       ...\n",
       "2002-08-28  0.705771  0.391731 -0.908639\n",
       "2002-08-29 -0.203038  0.539428 -0.246026\n",
       "2002-08-30  0.668870  0.861511  0.129058\n",
       "2002-08-31 -0.868345  0.726837  0.607707\n",
       "2002-09-01  1.442048 -2.723047 -1.801504\n",
       "2002-09-02 -0.395605 -0.760295  0.885788\n",
       "2002-09-03  0.020136  0.833953 -0.960003\n",
       "2002-09-04 -0.202290 -0.299152 -2.095714\n",
       "2002-09-05 -0.183144  0.784763 -0.719783\n",
       "2002-09-06  0.295314  0.163483 -0.435157\n",
       "2002-09-07  0.568629 -0.483656 -1.344631\n",
       "2002-09-08 -0.952746 -1.334189  0.041991\n",
       "2002-09-09  0.071729  2.736541 -0.780913\n",
       "2002-09-10  0.251536 -0.261050  0.102809\n",
       "2002-09-11 -0.260607 -0.590570 -1.666910\n",
       "2002-09-12  0.583793  1.040068  0.061788\n",
       "2002-09-13  1.075656 -0.510035  0.016521\n",
       "2002-09-14 -0.099780  2.761861  1.478063\n",
       "2002-09-15  1.226383 -1.670101  1.222257\n",
       "2002-09-16  1.543714 -0.765843 -0.584029\n",
       "2002-09-17  1.080449  0.395607 -0.966395\n",
       "2002-09-18  1.731626  0.545142  0.278215\n",
       "2002-09-19  1.369867  1.907194 -1.068670\n",
       "2002-09-20  0.163890 -0.391252 -0.240951\n",
       "2002-09-21  1.826174  0.178923 -1.206591\n",
       "2002-09-22  0.866565 -0.947990  1.090342\n",
       "2002-09-23  0.159897  0.361642  0.262545\n",
       "2002-09-24  1.101539 -0.380934  1.959826\n",
       "2002-09-25 -0.520893 -0.061114 -1.486322\n",
       "2002-09-26  1.478825 -0.442110  0.683418\n",
       "\n",
       "[1000 rows x 3 columns]"
      ]
     },
     "execution_count": 54,
     "metadata": {},
     "output_type": "execute_result"
    }
   ],
   "source": [
    "tsdf = pd.DataFrame(np.random.randn(1000, 3), columns=list('ABC'), \n",
    "                    index=pd.date_range('1/1/2000', periods=1000))\n",
    "tsdf"
   ]
  },
  {
   "cell_type": "code",
   "execution_count": 56,
   "metadata": {
    "collapsed": false
   },
   "outputs": [
    {
     "data": {
      "text/plain": [
       "A   2001-08-09\n",
       "B   2000-07-01\n",
       "C   2000-09-07\n",
       "dtype: datetime64[ns]"
      ]
     },
     "execution_count": 56,
     "metadata": {},
     "output_type": "execute_result"
    }
   ],
   "source": [
    "tsdf.apply(lambda x:x.idxmax())"
   ]
  },
  {
   "cell_type": "code",
   "execution_count": 58,
   "metadata": {
    "collapsed": false
   },
   "outputs": [
    {
     "data": {
      "text/plain": [
       "2000-01-01    B\n",
       "2000-01-02    B\n",
       "2000-01-03    A\n",
       "2000-01-04    A\n",
       "2000-01-05    A\n",
       "2000-01-06    A\n",
       "2000-01-07    B\n",
       "2000-01-08    A\n",
       "2000-01-09    B\n",
       "2000-01-10    C\n",
       "2000-01-11    B\n",
       "2000-01-12    B\n",
       "2000-01-13    B\n",
       "2000-01-14    A\n",
       "2000-01-15    B\n",
       "2000-01-16    B\n",
       "2000-01-17    C\n",
       "2000-01-18    B\n",
       "2000-01-19    C\n",
       "2000-01-20    C\n",
       "2000-01-21    C\n",
       "2000-01-22    C\n",
       "2000-01-23    C\n",
       "2000-01-24    C\n",
       "2000-01-25    B\n",
       "2000-01-26    C\n",
       "2000-01-27    C\n",
       "2000-01-28    A\n",
       "2000-01-29    B\n",
       "2000-01-30    A\n",
       "             ..\n",
       "2002-08-28    A\n",
       "2002-08-29    B\n",
       "2002-08-30    B\n",
       "2002-08-31    B\n",
       "2002-09-01    A\n",
       "2002-09-02    C\n",
       "2002-09-03    B\n",
       "2002-09-04    A\n",
       "2002-09-05    B\n",
       "2002-09-06    A\n",
       "2002-09-07    A\n",
       "2002-09-08    C\n",
       "2002-09-09    B\n",
       "2002-09-10    A\n",
       "2002-09-11    A\n",
       "2002-09-12    B\n",
       "2002-09-13    A\n",
       "2002-09-14    B\n",
       "2002-09-15    A\n",
       "2002-09-16    A\n",
       "2002-09-17    A\n",
       "2002-09-18    A\n",
       "2002-09-19    B\n",
       "2002-09-20    A\n",
       "2002-09-21    A\n",
       "2002-09-22    C\n",
       "2002-09-23    B\n",
       "2002-09-24    C\n",
       "2002-09-25    B\n",
       "2002-09-26    A\n",
       "Freq: D, dtype: object"
      ]
     },
     "execution_count": 58,
     "metadata": {},
     "output_type": "execute_result"
    }
   ],
   "source": [
    "tsdf.apply(lambda x: x.idxmax(), axis=1)"
   ]
  },
  {
   "cell_type": "code",
   "execution_count": 60,
   "metadata": {
    "collapsed": false
   },
   "outputs": [
    {
     "data": {
      "text/html": [
       "<div>\n",
       "<table border=\"1\" class=\"dataframe\">\n",
       "  <thead>\n",
       "    <tr style=\"text-align: right;\">\n",
       "      <th></th>\n",
       "      <th>A</th>\n",
       "      <th>B</th>\n",
       "    </tr>\n",
       "  </thead>\n",
       "  <tbody>\n",
       "    <tr>\n",
       "      <th>0</th>\n",
       "      <td>5.0</td>\n",
       "      <td>NaN</td>\n",
       "    </tr>\n",
       "    <tr>\n",
       "      <th>1</th>\n",
       "      <td>2.0</td>\n",
       "      <td>NaN</td>\n",
       "    </tr>\n",
       "    <tr>\n",
       "      <th>2</th>\n",
       "      <td>4.0</td>\n",
       "      <td>3.0</td>\n",
       "    </tr>\n",
       "    <tr>\n",
       "      <th>3</th>\n",
       "      <td>NaN</td>\n",
       "      <td>4.0</td>\n",
       "    </tr>\n",
       "    <tr>\n",
       "      <th>4</th>\n",
       "      <td>3.0</td>\n",
       "      <td>6.0</td>\n",
       "    </tr>\n",
       "    <tr>\n",
       "      <th>5</th>\n",
       "      <td>7.0</td>\n",
       "      <td>8.0</td>\n",
       "    </tr>\n",
       "  </tbody>\n",
       "</table>\n",
       "</div>"
      ],
      "text/plain": [
       "     A    B\n",
       "0  5.0  NaN\n",
       "1  2.0  NaN\n",
       "2  4.0  3.0\n",
       "3  NaN  4.0\n",
       "4  3.0  6.0\n",
       "5  7.0  8.0"
      ]
     },
     "execution_count": 60,
     "metadata": {},
     "output_type": "execute_result"
    }
   ],
   "source": [
    "df2"
   ]
  },
  {
   "cell_type": "code",
   "execution_count": 61,
   "metadata": {
    "collapsed": false
   },
   "outputs": [
    {
     "data": {
      "text/plain": [
       "a   -0.999001\n",
       "b    0.832770\n",
       "c    0.184280\n",
       "d    1.012242\n",
       "e   -0.244432\n",
       "dtype: float64"
      ]
     },
     "execution_count": 61,
     "metadata": {},
     "output_type": "execute_result"
    }
   ],
   "source": [
    "s = pd.Series(np.random.randn(5), index=['a', 'b', 'c', 'd', 'e'])\n",
    "s"
   ]
  },
  {
   "cell_type": "code",
   "execution_count": 62,
   "metadata": {
    "collapsed": false
   },
   "outputs": [
    {
     "data": {
      "text/plain": [
       "e   -0.244432\n",
       "b    0.832770\n",
       "f         NaN\n",
       "d    1.012242\n",
       "dtype: float64"
      ]
     },
     "execution_count": 62,
     "metadata": {},
     "output_type": "execute_result"
    }
   ],
   "source": [
    "s.reindex(['e', 'b', 'f', 'd'])"
   ]
  },
  {
   "cell_type": "code",
   "execution_count": 63,
   "metadata": {
    "collapsed": false
   },
   "outputs": [
    {
     "data": {
      "text/html": [
       "<div>\n",
       "<table border=\"1\" class=\"dataframe\">\n",
       "  <thead>\n",
       "    <tr style=\"text-align: right;\">\n",
       "      <th></th>\n",
       "      <th>one</th>\n",
       "      <th>three</th>\n",
       "      <th>two</th>\n",
       "    </tr>\n",
       "  </thead>\n",
       "  <tbody>\n",
       "    <tr>\n",
       "      <th>a</th>\n",
       "      <td>0.577716</td>\n",
       "      <td>NaN</td>\n",
       "      <td>-0.103012</td>\n",
       "    </tr>\n",
       "    <tr>\n",
       "      <th>b</th>\n",
       "      <td>-0.958164</td>\n",
       "      <td>-1.484507</td>\n",
       "      <td>-0.382895</td>\n",
       "    </tr>\n",
       "    <tr>\n",
       "      <th>c</th>\n",
       "      <td>-0.358257</td>\n",
       "      <td>-0.105039</td>\n",
       "      <td>0.682108</td>\n",
       "    </tr>\n",
       "    <tr>\n",
       "      <th>d</th>\n",
       "      <td>NaN</td>\n",
       "      <td>-0.168444</td>\n",
       "      <td>-0.311164</td>\n",
       "    </tr>\n",
       "  </tbody>\n",
       "</table>\n",
       "</div>"
      ],
      "text/plain": [
       "        one     three       two\n",
       "a  0.577716       NaN -0.103012\n",
       "b -0.958164 -1.484507 -0.382895\n",
       "c -0.358257 -0.105039  0.682108\n",
       "d       NaN -0.168444 -0.311164"
      ]
     },
     "execution_count": 63,
     "metadata": {},
     "output_type": "execute_result"
    }
   ],
   "source": [
    "df"
   ]
  },
  {
   "cell_type": "code",
   "execution_count": 64,
   "metadata": {
    "collapsed": false
   },
   "outputs": [
    {
     "data": {
      "text/plain": [
       "a   -0.999001\n",
       "b    0.832770\n",
       "c    0.184280\n",
       "d    1.012242\n",
       "e   -0.244432\n",
       "dtype: float64"
      ]
     },
     "execution_count": 64,
     "metadata": {},
     "output_type": "execute_result"
    }
   ],
   "source": [
    "s"
   ]
  },
  {
   "cell_type": "code",
   "execution_count": 65,
   "metadata": {
    "collapsed": true
   },
   "outputs": [],
   "source": [
    "s1 = s[:4]"
   ]
  },
  {
   "cell_type": "code",
   "execution_count": 66,
   "metadata": {
    "collapsed": true
   },
   "outputs": [],
   "source": [
    "s2 = s[1:]"
   ]
  },
  {
   "cell_type": "code",
   "execution_count": 67,
   "metadata": {
    "collapsed": false
   },
   "outputs": [
    {
     "data": {
      "text/plain": [
       "(a   -0.999001\n",
       " b    0.832770\n",
       " c    0.184280\n",
       " d    1.012242\n",
       " e         NaN\n",
       " dtype: float64, a         NaN\n",
       " b    0.832770\n",
       " c    0.184280\n",
       " d    1.012242\n",
       " e   -0.244432\n",
       " dtype: float64)"
      ]
     },
     "execution_count": 67,
     "metadata": {},
     "output_type": "execute_result"
    }
   ],
   "source": [
    "s1.align(s2)"
   ]
  },
  {
   "cell_type": "code",
   "execution_count": 68,
   "metadata": {
    "collapsed": false
   },
   "outputs": [
    {
     "data": {
      "text/plain": [
       "(b    0.832770\n",
       " c    0.184280\n",
       " d    1.012242\n",
       " dtype: float64, b    0.832770\n",
       " c    0.184280\n",
       " d    1.012242\n",
       " dtype: float64)"
      ]
     },
     "execution_count": 68,
     "metadata": {},
     "output_type": "execute_result"
    }
   ],
   "source": [
    "s1.align(s2, join='inner')"
   ]
  },
  {
   "cell_type": "code",
   "execution_count": 69,
   "metadata": {
    "collapsed": false
   },
   "outputs": [
    {
     "data": {
      "text/plain": [
       "(a   -0.999001\n",
       " b    0.832770\n",
       " c    0.184280\n",
       " d    1.012242\n",
       " dtype: float64, a         NaN\n",
       " b    0.832770\n",
       " c    0.184280\n",
       " d    1.012242\n",
       " dtype: float64)"
      ]
     },
     "execution_count": 69,
     "metadata": {},
     "output_type": "execute_result"
    }
   ],
   "source": [
    "s1.align(s2, join='left')"
   ]
  },
  {
   "cell_type": "code",
   "execution_count": 70,
   "metadata": {
    "collapsed": false
   },
   "outputs": [
    {
     "data": {
      "text/html": [
       "<div>\n",
       "<table border=\"1\" class=\"dataframe\">\n",
       "  <thead>\n",
       "    <tr style=\"text-align: right;\">\n",
       "      <th></th>\n",
       "      <th>A</th>\n",
       "      <th>B</th>\n",
       "    </tr>\n",
       "  </thead>\n",
       "  <tbody>\n",
       "    <tr>\n",
       "      <th>0</th>\n",
       "      <td>5.0</td>\n",
       "      <td>NaN</td>\n",
       "    </tr>\n",
       "    <tr>\n",
       "      <th>1</th>\n",
       "      <td>2.0</td>\n",
       "      <td>NaN</td>\n",
       "    </tr>\n",
       "    <tr>\n",
       "      <th>2</th>\n",
       "      <td>4.0</td>\n",
       "      <td>3.0</td>\n",
       "    </tr>\n",
       "    <tr>\n",
       "      <th>3</th>\n",
       "      <td>NaN</td>\n",
       "      <td>4.0</td>\n",
       "    </tr>\n",
       "    <tr>\n",
       "      <th>4</th>\n",
       "      <td>3.0</td>\n",
       "      <td>6.0</td>\n",
       "    </tr>\n",
       "    <tr>\n",
       "      <th>5</th>\n",
       "      <td>7.0</td>\n",
       "      <td>8.0</td>\n",
       "    </tr>\n",
       "  </tbody>\n",
       "</table>\n",
       "</div>"
      ],
      "text/plain": [
       "     A    B\n",
       "0  5.0  NaN\n",
       "1  2.0  NaN\n",
       "2  4.0  3.0\n",
       "3  NaN  4.0\n",
       "4  3.0  6.0\n",
       "5  7.0  8.0"
      ]
     },
     "execution_count": 70,
     "metadata": {},
     "output_type": "execute_result"
    }
   ],
   "source": [
    "df2"
   ]
  },
  {
   "cell_type": "code",
   "execution_count": 71,
   "metadata": {
    "collapsed": false
   },
   "outputs": [
    {
     "data": {
      "text/html": [
       "<div>\n",
       "<table border=\"1\" class=\"dataframe\">\n",
       "  <thead>\n",
       "    <tr style=\"text-align: right;\">\n",
       "      <th></th>\n",
       "      <th>one</th>\n",
       "      <th>three</th>\n",
       "      <th>two</th>\n",
       "    </tr>\n",
       "  </thead>\n",
       "  <tbody>\n",
       "    <tr>\n",
       "      <th>a</th>\n",
       "      <td>0.577716</td>\n",
       "      <td>NaN</td>\n",
       "      <td>-0.103012</td>\n",
       "    </tr>\n",
       "    <tr>\n",
       "      <th>b</th>\n",
       "      <td>-0.958164</td>\n",
       "      <td>-1.484507</td>\n",
       "      <td>-0.382895</td>\n",
       "    </tr>\n",
       "    <tr>\n",
       "      <th>c</th>\n",
       "      <td>-0.358257</td>\n",
       "      <td>-0.105039</td>\n",
       "      <td>0.682108</td>\n",
       "    </tr>\n",
       "    <tr>\n",
       "      <th>d</th>\n",
       "      <td>NaN</td>\n",
       "      <td>-0.168444</td>\n",
       "      <td>-0.311164</td>\n",
       "    </tr>\n",
       "  </tbody>\n",
       "</table>\n",
       "</div>"
      ],
      "text/plain": [
       "        one     three       two\n",
       "a  0.577716       NaN -0.103012\n",
       "b -0.958164 -1.484507 -0.382895\n",
       "c -0.358257 -0.105039  0.682108\n",
       "d       NaN -0.168444 -0.311164"
      ]
     },
     "execution_count": 71,
     "metadata": {},
     "output_type": "execute_result"
    }
   ],
   "source": [
    "df"
   ]
  },
  {
   "cell_type": "code",
   "execution_count": 72,
   "metadata": {
    "collapsed": false
   },
   "outputs": [
    {
     "data": {
      "text/html": [
       "<div>\n",
       "<table border=\"1\" class=\"dataframe\">\n",
       "  <thead>\n",
       "    <tr style=\"text-align: right;\">\n",
       "      <th></th>\n",
       "      <th>one</th>\n",
       "      <th>three</th>\n",
       "      <th>two</th>\n",
       "    </tr>\n",
       "  </thead>\n",
       "  <tbody>\n",
       "    <tr>\n",
       "      <th>b</th>\n",
       "      <td>-0.958164</td>\n",
       "      <td>-1.484507</td>\n",
       "      <td>-0.382895</td>\n",
       "    </tr>\n",
       "    <tr>\n",
       "      <th>c</th>\n",
       "      <td>-0.358257</td>\n",
       "      <td>-0.105039</td>\n",
       "      <td>0.682108</td>\n",
       "    </tr>\n",
       "  </tbody>\n",
       "</table>\n",
       "</div>"
      ],
      "text/plain": [
       "        one     three       two\n",
       "b -0.958164 -1.484507 -0.382895\n",
       "c -0.358257 -0.105039  0.682108"
      ]
     },
     "execution_count": 72,
     "metadata": {},
     "output_type": "execute_result"
    }
   ],
   "source": [
    "df.drop(['a', 'd'], axis=0)"
   ]
  },
  {
   "cell_type": "code",
   "execution_count": 75,
   "metadata": {
    "collapsed": false
   },
   "outputs": [
    {
     "data": {
      "text/html": [
       "<div>\n",
       "<table border=\"1\" class=\"dataframe\">\n",
       "  <thead>\n",
       "    <tr style=\"text-align: right;\">\n",
       "      <th></th>\n",
       "      <th>three</th>\n",
       "      <th>two</th>\n",
       "    </tr>\n",
       "  </thead>\n",
       "  <tbody>\n",
       "    <tr>\n",
       "      <th>a</th>\n",
       "      <td>NaN</td>\n",
       "      <td>-0.103012</td>\n",
       "    </tr>\n",
       "    <tr>\n",
       "      <th>b</th>\n",
       "      <td>-1.484507</td>\n",
       "      <td>-0.382895</td>\n",
       "    </tr>\n",
       "    <tr>\n",
       "      <th>c</th>\n",
       "      <td>-0.105039</td>\n",
       "      <td>0.682108</td>\n",
       "    </tr>\n",
       "    <tr>\n",
       "      <th>d</th>\n",
       "      <td>-0.168444</td>\n",
       "      <td>-0.311164</td>\n",
       "    </tr>\n",
       "  </tbody>\n",
       "</table>\n",
       "</div>"
      ],
      "text/plain": [
       "      three       two\n",
       "a       NaN -0.103012\n",
       "b -1.484507 -0.382895\n",
       "c -0.105039  0.682108\n",
       "d -0.168444 -0.311164"
      ]
     },
     "execution_count": 75,
     "metadata": {},
     "output_type": "execute_result"
    }
   ],
   "source": [
    "df.drop(['one'], axis=1)"
   ]
  },
  {
   "cell_type": "code",
   "execution_count": 76,
   "metadata": {
    "collapsed": false
   },
   "outputs": [
    {
     "name": "stdout",
     "output_type": "stream",
     "text": [
      "one\n",
      "three\n",
      "two\n"
     ]
    }
   ],
   "source": [
    "for col in df:\n",
    "    print (col)"
   ]
  },
  {
   "cell_type": "code",
   "execution_count": null,
   "metadata": {
    "collapsed": true
   },
   "outputs": [],
   "source": []
  }
 ],
 "metadata": {
  "kernelspec": {
   "display_name": "Python 2",
   "language": "python",
   "name": "python2"
  },
  "language_info": {
   "codemirror_mode": {
    "name": "ipython",
    "version": 2
   },
   "file_extension": ".py",
   "mimetype": "text/x-python",
   "name": "python",
   "nbconvert_exporter": "python",
   "pygments_lexer": "ipython2",
   "version": "2.7.11"
  }
 },
 "nbformat": 4,
 "nbformat_minor": 0
}
